{
 "cells": [
  {
   "cell_type": "markdown",
   "metadata": {
    "colab_type": "text",
    "id": "xtjqI_mfujh2"
   },
   "source": [
    "# Table of Contents\n",
    " 1. About the Dataset\n",
    " 2. Regex for Cleaning Text Data \n",
    " 3. Regex for Text Data Extraction\n",
    " 4. Regex Challenge\n"
   ]
  },
  {
   "cell_type": "markdown",
   "metadata": {
    "colab_type": "text",
    "id": "cBHdRHrJujh5"
   },
   "source": [
    "## 1. About the Dataset"
   ]
  },
  {
   "cell_type": "code",
   "execution_count": 1,
   "metadata": {
    "colab": {
     "base_uri": "https://localhost:8080/",
     "height": 452
    },
    "colab_type": "code",
    "executionInfo": {
     "elapsed": 1285,
     "status": "ok",
     "timestamp": 1598594635506,
     "user": {
      "displayName": "Aishwarya Singh",
      "photoUrl": "https://lh3.googleusercontent.com/a-/AOh14GgeJwfn4BdBDCAplWi_kdtB9FRssOpXO7T_aMgg=s64",
      "userId": "01105858832371513140"
     },
     "user_tz": -330
    },
    "id": "PW7kNj8Xujh8",
    "outputId": "5cf7ce91-5536-474a-ca19-999588baef96"
   },
   "outputs": [
    {
     "data": {
      "text/html": [
       "<div>\n",
       "<style scoped>\n",
       "    .dataframe tbody tr th:only-of-type {\n",
       "        vertical-align: middle;\n",
       "    }\n",
       "\n",
       "    .dataframe tbody tr th {\n",
       "        vertical-align: top;\n",
       "    }\n",
       "\n",
       "    .dataframe thead th {\n",
       "        text-align: right;\n",
       "    }\n",
       "</style>\n",
       "<table border=\"1\" class=\"dataframe\">\n",
       "  <thead>\n",
       "    <tr style=\"text-align: right;\">\n",
       "      <th></th>\n",
       "      <th>X</th>\n",
       "      <th>text</th>\n",
       "      <th>favorited</th>\n",
       "      <th>favoriteCount</th>\n",
       "      <th>replyToSN</th>\n",
       "      <th>created</th>\n",
       "      <th>truncated</th>\n",
       "      <th>replyToSID</th>\n",
       "      <th>id</th>\n",
       "      <th>replyToUID</th>\n",
       "      <th>statusSource</th>\n",
       "      <th>screenName</th>\n",
       "      <th>retweetCount</th>\n",
       "      <th>isRetweet</th>\n",
       "      <th>retweeted</th>\n",
       "    </tr>\n",
       "  </thead>\n",
       "  <tbody>\n",
       "    <tr>\n",
       "      <th>0</th>\n",
       "      <td>1</td>\n",
       "      <td>RT @rssurjewala: Critical question: Was PayTM ...</td>\n",
       "      <td>False</td>\n",
       "      <td>0</td>\n",
       "      <td>NaN</td>\n",
       "      <td>23-11-2016 18:40</td>\n",
       "      <td>False</td>\n",
       "      <td>NaN</td>\n",
       "      <td>8.014960e+17</td>\n",
       "      <td>NaN</td>\n",
       "      <td>&lt;a href=\"http://twitter.com/download/android\" ...</td>\n",
       "      <td>HASHTAGFARZIWAL</td>\n",
       "      <td>331</td>\n",
       "      <td>True</td>\n",
       "      <td>False</td>\n",
       "    </tr>\n",
       "    <tr>\n",
       "      <th>1</th>\n",
       "      <td>2</td>\n",
       "      <td>RT @Hemant_80: Did you vote on #Demonetization...</td>\n",
       "      <td>False</td>\n",
       "      <td>0</td>\n",
       "      <td>NaN</td>\n",
       "      <td>23-11-2016 18:40</td>\n",
       "      <td>False</td>\n",
       "      <td>NaN</td>\n",
       "      <td>8.014960e+17</td>\n",
       "      <td>NaN</td>\n",
       "      <td>&lt;a href=\"http://twitter.com/download/android\" ...</td>\n",
       "      <td>PRAMODKAUSHIK9</td>\n",
       "      <td>66</td>\n",
       "      <td>True</td>\n",
       "      <td>False</td>\n",
       "    </tr>\n",
       "    <tr>\n",
       "      <th>2</th>\n",
       "      <td>3</td>\n",
       "      <td>RT @roshankar: Former FinSec, RBI Dy Governor,...</td>\n",
       "      <td>False</td>\n",
       "      <td>0</td>\n",
       "      <td>NaN</td>\n",
       "      <td>23-11-2016 18:40</td>\n",
       "      <td>False</td>\n",
       "      <td>NaN</td>\n",
       "      <td>8.014960e+17</td>\n",
       "      <td>NaN</td>\n",
       "      <td>&lt;a href=\"http://twitter.com/download/android\" ...</td>\n",
       "      <td>rahulja13034944</td>\n",
       "      <td>12</td>\n",
       "      <td>True</td>\n",
       "      <td>False</td>\n",
       "    </tr>\n",
       "    <tr>\n",
       "      <th>3</th>\n",
       "      <td>4</td>\n",
       "      <td>RT @ANI_news: Gurugram (Haryana): Post office ...</td>\n",
       "      <td>False</td>\n",
       "      <td>0</td>\n",
       "      <td>NaN</td>\n",
       "      <td>23-11-2016 18:39</td>\n",
       "      <td>False</td>\n",
       "      <td>NaN</td>\n",
       "      <td>8.014960e+17</td>\n",
       "      <td>NaN</td>\n",
       "      <td>&lt;a href=\"http://twitter.com/download/android\" ...</td>\n",
       "      <td>deeptiyvd</td>\n",
       "      <td>338</td>\n",
       "      <td>True</td>\n",
       "      <td>False</td>\n",
       "    </tr>\n",
       "    <tr>\n",
       "      <th>4</th>\n",
       "      <td>5</td>\n",
       "      <td>RT @satishacharya: Reddy Wedding! @mail_today ...</td>\n",
       "      <td>False</td>\n",
       "      <td>0</td>\n",
       "      <td>NaN</td>\n",
       "      <td>23-11-2016 18:39</td>\n",
       "      <td>False</td>\n",
       "      <td>NaN</td>\n",
       "      <td>8.014950e+17</td>\n",
       "      <td>NaN</td>\n",
       "      <td>&lt;a href=\"http://cpimharyana.com\" rel=\"nofollow...</td>\n",
       "      <td>CPIMBadli</td>\n",
       "      <td>120</td>\n",
       "      <td>True</td>\n",
       "      <td>False</td>\n",
       "    </tr>\n",
       "  </tbody>\n",
       "</table>\n",
       "</div>"
      ],
      "text/plain": [
       "   X                                               text  favorited  \\\n",
       "0  1  RT @rssurjewala: Critical question: Was PayTM ...      False   \n",
       "1  2  RT @Hemant_80: Did you vote on #Demonetization...      False   \n",
       "2  3  RT @roshankar: Former FinSec, RBI Dy Governor,...      False   \n",
       "3  4  RT @ANI_news: Gurugram (Haryana): Post office ...      False   \n",
       "4  5  RT @satishacharya: Reddy Wedding! @mail_today ...      False   \n",
       "\n",
       "   favoriteCount replyToSN           created  truncated  replyToSID  \\\n",
       "0              0       NaN  23-11-2016 18:40      False         NaN   \n",
       "1              0       NaN  23-11-2016 18:40      False         NaN   \n",
       "2              0       NaN  23-11-2016 18:40      False         NaN   \n",
       "3              0       NaN  23-11-2016 18:39      False         NaN   \n",
       "4              0       NaN  23-11-2016 18:39      False         NaN   \n",
       "\n",
       "             id  replyToUID  \\\n",
       "0  8.014960e+17         NaN   \n",
       "1  8.014960e+17         NaN   \n",
       "2  8.014960e+17         NaN   \n",
       "3  8.014960e+17         NaN   \n",
       "4  8.014950e+17         NaN   \n",
       "\n",
       "                                        statusSource       screenName  \\\n",
       "0  <a href=\"http://twitter.com/download/android\" ...  HASHTAGFARZIWAL   \n",
       "1  <a href=\"http://twitter.com/download/android\" ...   PRAMODKAUSHIK9   \n",
       "2  <a href=\"http://twitter.com/download/android\" ...  rahulja13034944   \n",
       "3  <a href=\"http://twitter.com/download/android\" ...        deeptiyvd   \n",
       "4  <a href=\"http://cpimharyana.com\" rel=\"nofollow...        CPIMBadli   \n",
       "\n",
       "   retweetCount  isRetweet  retweeted  \n",
       "0           331       True      False  \n",
       "1            66       True      False  \n",
       "2            12       True      False  \n",
       "3           338       True      False  \n",
       "4           120       True      False  "
      ]
     },
     "execution_count": 1,
     "metadata": {},
     "output_type": "execute_result"
    }
   ],
   "source": [
    "import pandas as pd \n",
    "\n",
    "#Loading the dataset\n",
    "df = pd.read_csv(\"tweets.csv\", encoding = \"ISO-8859-1\")\n",
    "\n",
    "# Printing first 5 rows\n",
    "df.head()"
   ]
  },
  {
   "cell_type": "code",
   "execution_count": 2,
   "metadata": {
    "colab": {
     "base_uri": "https://localhost:8080/",
     "height": 159
    },
    "colab_type": "code",
    "executionInfo": {
     "elapsed": 1358,
     "status": "ok",
     "timestamp": 1598594760358,
     "user": {
      "displayName": "Aishwarya Singh",
      "photoUrl": "https://lh3.googleusercontent.com/a-/AOh14GgeJwfn4BdBDCAplWi_kdtB9FRssOpXO7T_aMgg=s64",
      "userId": "01105858832371513140"
     },
     "user_tz": -330
    },
    "id": "weuH_j1dujiM",
    "outputId": "c432eb1b-5fe5-4dac-c7f5-583afdc6b1f1"
   },
   "outputs": [
    {
     "name": "stdout",
     "output_type": "stream",
     "text": [
      "1 . Many opposition leaders are with @narendramodi on the #Demonetization \r\n",
      "And respect their decision,but support opposition just b'coz of party\n",
      "2 . RT @Joydas: Question in Narendra Modi App where PM is taking feedback if people support his #DeMonetization strategy https://t.co/pYgK8Rmg7r\n",
      "3 . @Jaggesh2 Bharat band on 28??<ed><U+00A0><U+00BD><ed><U+00B8><U+0082>Those who  are protesting #demonetization  are all different party leaders.\n",
      "4 . RT @Atheist_Krishna: The effect of #Demonetization !!\r\n",
      ". https://t.co/A8of7zh2f5\n",
      "5 . RT @sona2905: When I explained #Demonetization to myself and tried to put it down in my words which are not laced with any heavy technical",
      "\n"
     ]
    }
   ],
   "source": [
    "# Looking at some Tweets\n",
    "for index, tweet in enumerate(df[\"text\"][10:15]):\n",
    "    print(index+1,\".\",tweet)"
   ]
  },
  {
   "cell_type": "markdown",
   "metadata": {
    "colab_type": "text",
    "id": "AtyGrQGjujiV"
   },
   "source": [
    "## 2. Regex for Cleaning Text Data"
   ]
  },
  {
   "cell_type": "code",
   "execution_count": 3,
   "metadata": {
    "colab": {},
    "colab_type": "code",
    "executionInfo": {
     "elapsed": 1854,
     "status": "ok",
     "timestamp": 1598594786560,
     "user": {
      "displayName": "Aishwarya Singh",
      "photoUrl": "https://lh3.googleusercontent.com/a-/AOh14GgeJwfn4BdBDCAplWi_kdtB9FRssOpXO7T_aMgg=s64",
      "userId": "01105858832371513140"
     },
     "user_tz": -330
    },
    "id": "6d09OY74ujiY"
   },
   "outputs": [],
   "source": [
    "import re"
   ]
  },
  {
   "cell_type": "markdown",
   "metadata": {
    "colab_type": "text",
    "id": "OjgVp4Vnujif"
   },
   "source": [
    "### a. Removing `RT`"
   ]
  },
  {
   "cell_type": "code",
   "execution_count": 4,
   "metadata": {
    "colab": {
     "base_uri": "https://localhost:8080/",
     "height": 106
    },
    "colab_type": "code",
    "executionInfo": {
     "elapsed": 2046,
     "status": "ok",
     "timestamp": 1598594848388,
     "user": {
      "displayName": "Aishwarya Singh",
      "photoUrl": "https://lh3.googleusercontent.com/a-/AOh14GgeJwfn4BdBDCAplWi_kdtB9FRssOpXO7T_aMgg=s64",
      "userId": "01105858832371513140"
     },
     "user_tz": -330
    },
    "id": "KNhY2zWBujih",
    "outputId": "c3745637-a4df-45d4-9e99-56c124a95c0c",
    "scrolled": true
   },
   "outputs": [
    {
     "name": "stdout",
     "output_type": "stream",
     "text": [
      "Text before:\n",
      " RT @Joydas: Question in Narendra Modi App where PM is taking feedback if people support his #DeMonetization strategy https://t.co/pYgK8Rmg7r\n",
      "Text after:\n",
      " @Joydas: Question in Narendra Modi App where PM is taking feedback if people support his #DeMonetization strategy https://t.co/pYgK8Rmg7r\n"
     ]
    }
   ],
   "source": [
    "# Removing RT from a single Tweet\n",
    "text = \"RT @Joydas: Question in Narendra Modi App where PM is taking feedback if people support his #DeMonetization strategy https://t.co/pYgK8Rmg7r\"\n",
    "clean_text = re.sub('RT ','', text)\n",
    "\n",
    "print(\"Text before:\\n\", text)\n",
    "print(\"Text after:\\n\", clean_text)"
   ]
  },
  {
   "cell_type": "code",
   "execution_count": 5,
   "metadata": {
    "colab": {
     "base_uri": "https://localhost:8080/",
     "height": 121
    },
    "colab_type": "code",
    "executionInfo": {
     "elapsed": 2349,
     "status": "ok",
     "timestamp": 1598594870727,
     "user": {
      "displayName": "Aishwarya Singh",
      "photoUrl": "https://lh3.googleusercontent.com/a-/AOh14GgeJwfn4BdBDCAplWi_kdtB9FRssOpXO7T_aMgg=s64",
      "userId": "01105858832371513140"
     },
     "user_tz": -330
    },
    "id": "GiIlLK4pujip",
    "outputId": "dee310d0-ccd0-442b-9d55-6e71c6dcafa2"
   },
   "outputs": [
    {
     "data": {
      "text/plain": [
       "0    RT @rssurjewala: Critical question: Was PayTM ...\n",
       "1    RT @Hemant_80: Did you vote on #Demonetization...\n",
       "2    RT @roshankar: Former FinSec, RBI Dy Governor,...\n",
       "3    RT @ANI_news: Gurugram (Haryana): Post office ...\n",
       "4    RT @satishacharya: Reddy Wedding! @mail_today ...\n",
       "Name: text, dtype: object"
      ]
     },
     "execution_count": 5,
     "metadata": {},
     "output_type": "execute_result"
    }
   ],
   "source": [
    "# Tweets before removal\n",
    "df['text'].head()"
   ]
  },
  {
   "cell_type": "code",
   "execution_count": 6,
   "metadata": {
    "colab": {},
    "colab_type": "code",
    "executionInfo": {
     "elapsed": 1922,
     "status": "ok",
     "timestamp": 1598594876100,
     "user": {
      "displayName": "Aishwarya Singh",
      "photoUrl": "https://lh3.googleusercontent.com/a-/AOh14GgeJwfn4BdBDCAplWi_kdtB9FRssOpXO7T_aMgg=s64",
      "userId": "01105858832371513140"
     },
     "user_tz": -330
    },
    "id": "e_sg0D20ujix"
   },
   "outputs": [],
   "source": [
    "# Removing RT from all the tweets\n",
    "df['text']=df['text'].apply(lambda x: re.sub('RT ','',x))"
   ]
  },
  {
   "cell_type": "code",
   "execution_count": 7,
   "metadata": {
    "colab": {
     "base_uri": "https://localhost:8080/",
     "height": 121
    },
    "colab_type": "code",
    "executionInfo": {
     "elapsed": 1420,
     "status": "ok",
     "timestamp": 1598594877875,
     "user": {
      "displayName": "Aishwarya Singh",
      "photoUrl": "https://lh3.googleusercontent.com/a-/AOh14GgeJwfn4BdBDCAplWi_kdtB9FRssOpXO7T_aMgg=s64",
      "userId": "01105858832371513140"
     },
     "user_tz": -330
    },
    "id": "Q68p9HTauji3",
    "outputId": "8ba44d13-452e-401a-97c3-2ac20982f4ea"
   },
   "outputs": [
    {
     "data": {
      "text/plain": [
       "0    @rssurjewala: Critical question: Was PayTM inf...\n",
       "1    @Hemant_80: Did you vote on #Demonetization on...\n",
       "2    @roshankar: Former FinSec, RBI Dy Governor, CB...\n",
       "3    @ANI_news: Gurugram (Haryana): Post office emp...\n",
       "4    @satishacharya: Reddy Wedding! @mail_today car...\n",
       "Name: text, dtype: object"
      ]
     },
     "execution_count": 7,
     "metadata": {},
     "output_type": "execute_result"
    }
   ],
   "source": [
    "# Tweets after removal\n",
    "df['text'].head()"
   ]
  },
  {
   "cell_type": "markdown",
   "metadata": {
    "colab_type": "text",
    "id": "sINitCy_uji8"
   },
   "source": [
    "### b. Removing `<U+..>` like symbols"
   ]
  },
  {
   "cell_type": "code",
   "execution_count": 8,
   "metadata": {
    "colab": {
     "base_uri": "https://localhost:8080/",
     "height": 106
    },
    "colab_type": "code",
    "executionInfo": {
     "elapsed": 1491,
     "status": "ok",
     "timestamp": 1598595000938,
     "user": {
      "displayName": "Aishwarya Singh",
      "photoUrl": "https://lh3.googleusercontent.com/a-/AOh14GgeJwfn4BdBDCAplWi_kdtB9FRssOpXO7T_aMgg=s64",
      "userId": "01105858832371513140"
     },
     "user_tz": -330
    },
    "id": "2Y1wOhYHuji-",
    "outputId": "ad276947-42b5-41f0-e7bb-855cf48ae2ae",
    "scrolled": true
   },
   "outputs": [
    {
     "name": "stdout",
     "output_type": "stream",
     "text": [
      "Text before:\n",
      " @Jaggesh2 Bharat band on 28??<ed><U+00A0><U+00BD><ed><U+00B8><U+0082>Those who  are protesting #demonetization  are all different party leaders\n",
      "Text after:\n",
      " @Jaggesh2 Bharat band on 28??<ed><ed>Those who  are protesting #demonetization  are all different party leaders\n"
     ]
    }
   ],
   "source": [
    "# Removing <U+..> like symbols from a single tweet\n",
    "text = \"@Jaggesh2 Bharat band on 28??<ed><U+00A0><U+00BD><ed><U+00B8><U+0082>Those who  are protesting #demonetization  are all different party leaders\"\n",
    "clean_text = re.sub('<U\\+[A-Z0-9]+>','', text)\n",
    "\n",
    "print(\"Text before:\\n\", text)\n",
    "print(\"Text after:\\n\", clean_text)"
   ]
  },
  {
   "cell_type": "markdown",
   "metadata": {
    "colab_type": "text",
    "id": "TSNVcp5RujjE"
   },
   "source": [
    "**Note** that although we have gotten rid of majority of symbols, `<ed>` is still present. I leave this as an exercise for you to try out. "
   ]
  },
  {
   "cell_type": "code",
   "execution_count": 9,
   "metadata": {
    "colab": {},
    "colab_type": "code",
    "executionInfo": {
     "elapsed": 1483,
     "status": "ok",
     "timestamp": 1598595072168,
     "user": {
      "displayName": "Aishwarya Singh",
      "photoUrl": "https://lh3.googleusercontent.com/a-/AOh14GgeJwfn4BdBDCAplWi_kdtB9FRssOpXO7T_aMgg=s64",
      "userId": "01105858832371513140"
     },
     "user_tz": -330
    },
    "id": "IUqQlbBWujjG"
   },
   "outputs": [],
   "source": [
    "# Removing <U+..> like symbols from all the tweets\n",
    "df['text']=df['text'].apply(lambda x: re.sub('<U\\+[A-Z0-9]+>', '', x))"
   ]
  },
  {
   "cell_type": "code",
   "execution_count": 10,
   "metadata": {},
   "outputs": [],
   "source": [
    "# Removing <ed> like symbols from all the tweets\n",
    "df['text']=df['text'].apply(lambda x: re.sub('<ed>', '', x))"
   ]
  },
  {
   "cell_type": "markdown",
   "metadata": {
    "colab_type": "text",
    "id": "zQIbv4blujjL"
   },
   "source": [
    "### c. Fixing the `&` and `&amp;`"
   ]
  },
  {
   "cell_type": "code",
   "execution_count": 11,
   "metadata": {
    "colab": {
     "base_uri": "https://localhost:8080/",
     "height": 106
    },
    "colab_type": "code",
    "executionInfo": {
     "elapsed": 1130,
     "status": "ok",
     "timestamp": 1598595441121,
     "user": {
      "displayName": "Aishwarya Singh",
      "photoUrl": "https://lh3.googleusercontent.com/a-/AOh14GgeJwfn4BdBDCAplWi_kdtB9FRssOpXO7T_aMgg=s64",
      "userId": "01105858832371513140"
     },
     "user_tz": -330
    },
    "id": "xLK7LE-7ujjM",
    "outputId": "7ada0170-0f73-4fcf-d699-6e1a99e64b35"
   },
   "outputs": [
    {
     "name": "stdout",
     "output_type": "stream",
     "text": [
      "Text before:\n",
      " RT @harshkkapoor: #DeMonetization survey results after 24 hours 5Lacs opinions Amazing response &amp; Commitment in fight against Blackmoney\n",
      "Text after:\n",
      " RT @harshkkapoor: #DeMonetization survey results after 24 hours 5Lacs opinions Amazing response & Commitment in fight against Blackmoney\n"
     ]
    }
   ],
   "source": [
    "# Replacing &amp with & in a single tweet\n",
    "text = \"RT @harshkkapoor: #DeMonetization survey results after 24 hours 5Lacs opinions Amazing response &amp; Commitment in fight against Blackmoney\"\n",
    "clean_text = re.sub('&amp;','&', text)\n",
    "\n",
    "print(\"Text before:\\n\", text)\n",
    "print(\"Text after:\\n\", clean_text)"
   ]
  },
  {
   "cell_type": "code",
   "execution_count": 12,
   "metadata": {
    "colab": {},
    "colab_type": "code",
    "executionInfo": {
     "elapsed": 1646,
     "status": "ok",
     "timestamp": 1598595452519,
     "user": {
      "displayName": "Aishwarya Singh",
      "photoUrl": "https://lh3.googleusercontent.com/a-/AOh14GgeJwfn4BdBDCAplWi_kdtB9FRssOpXO7T_aMgg=s64",
      "userId": "01105858832371513140"
     },
     "user_tz": -330
    },
    "id": "IBiob-YlujjT"
   },
   "outputs": [],
   "source": [
    "# Replacing &amp with & in all the tweets\n",
    "df['text']=df['text'].apply(lambda x: re.sub('&amp', '&', x))"
   ]
  },
  {
   "cell_type": "markdown",
   "metadata": {
    "colab_type": "text",
    "id": "GMo38GVFujja"
   },
   "source": [
    "## 3. Regex for Text Data Extraction\n",
    "### a. Extracting platform type of tweets"
   ]
  },
  {
   "cell_type": "code",
   "execution_count": 13,
   "metadata": {
    "colab": {},
    "colab_type": "code",
    "executionInfo": {
     "elapsed": 1221,
     "status": "ok",
     "timestamp": 1598595511723,
     "user": {
      "displayName": "Aishwarya Singh",
      "photoUrl": "https://lh3.googleusercontent.com/a-/AOh14GgeJwfn4BdBDCAplWi_kdtB9FRssOpXO7T_aMgg=s64",
      "userId": "01105858832371513140"
     },
     "user_tz": -330
    },
    "id": "jEJO4BGhujjc"
   },
   "outputs": [],
   "source": [
    "# Getting number of tweets per platform type\n",
    "platform_count = df[\"statusSource\"].value_counts()"
   ]
  },
  {
   "cell_type": "code",
   "execution_count": 14,
   "metadata": {
    "colab": {
     "base_uri": "https://localhost:8080/",
     "height": 225
    },
    "colab_type": "code",
    "executionInfo": {
     "elapsed": 1074,
     "status": "ok",
     "timestamp": 1598595513317,
     "user": {
      "displayName": "Aishwarya Singh",
      "photoUrl": "https://lh3.googleusercontent.com/a-/AOh14GgeJwfn4BdBDCAplWi_kdtB9FRssOpXO7T_aMgg=s64",
      "userId": "01105858832371513140"
     },
     "user_tz": -330
    },
    "id": "PFQ7XI7cujjh",
    "outputId": "211d1006-cc24-4bde-fb23-83daf480b6e2",
    "scrolled": true
   },
   "outputs": [
    {
     "data": {
      "text/plain": [
       "<a href=\"http://twitter.com/download/android\" rel=\"nofollow\">Twitter for Android</a>            7642\n",
       "<a href=\"http://twitter.com\" rel=\"nofollow\">Twitter Web Client</a>                              2548\n",
       "<a href=\"http://twitter.com/download/iphone\" rel=\"nofollow\">Twitter for iPhone</a>              2093\n",
       "<a href=\"https://about.twitter.com/products/tweetdeck\" rel=\"nofollow\">TweetDeck</a>              492\n",
       "<a href=\"https://mobile.twitter.com\" rel=\"nofollow\">Twitter Lite</a>                             263\n",
       "                                                                                                ... \n",
       "<a href=\"https://github.com/vishwenga/Simple-Python-TwitterBot\" rel=\"nofollow\">easypybot</a>       1\n",
       "<a href=\"http://pnllg.com\" rel=\"nofollow\">PNLLG </a>                                               1\n",
       "<a href=\"https://github.com/mariotaku/twidere/\" rel=\"nofollow\">Twidere for Android #7</a>          1\n",
       "<a href=\"https://twitter.com/kautilyya\" rel=\"nofollow\"> Kautilya 22092016</a>                      1\n",
       "<a href=\"http://trendinalia.com\" rel=\"nofollow\">Trendinalia Singapore</a>                          1\n",
       "Name: statusSource, Length: 144, dtype: int64"
      ]
     },
     "execution_count": 14,
     "metadata": {},
     "output_type": "execute_result"
    }
   ],
   "source": [
    "platform_count"
   ]
  },
  {
   "cell_type": "code",
   "execution_count": 15,
   "metadata": {
    "colab": {
     "base_uri": "https://localhost:8080/",
     "height": 260
    },
    "colab_type": "code",
    "executionInfo": {
     "elapsed": 1575,
     "status": "ok",
     "timestamp": 1598595568050,
     "user": {
      "displayName": "Aishwarya Singh",
      "photoUrl": "https://lh3.googleusercontent.com/a-/AOh14GgeJwfn4BdBDCAplWi_kdtB9FRssOpXO7T_aMgg=s64",
      "userId": "01105858832371513140"
     },
     "user_tz": -330
    },
    "id": "yPtNZx1hujjn",
    "outputId": "66758744-cb96-447b-e4f8-53218547c843"
   },
   "outputs": [
    {
     "data": {
      "text/plain": [
       "<a href=\"http://twitter.com/download/android\" rel=\"nofollow\">Twitter for Android</a>    7642\n",
       "<a href=\"http://twitter.com\" rel=\"nofollow\">Twitter Web Client</a>                      2548\n",
       "<a href=\"http://twitter.com/download/iphone\" rel=\"nofollow\">Twitter for iPhone</a>      2093\n",
       "<a href=\"https://about.twitter.com/products/tweetdeck\" rel=\"nofollow\">TweetDeck</a>      492\n",
       "<a href=\"https://mobile.twitter.com\" rel=\"nofollow\">Twitter Lite</a>                     263\n",
       "<a href=\"https://mobile.twitter.com\" rel=\"nofollow\">Mobile Web (M5)</a>                  178\n",
       "<a href=\"http://www.facebook.com/twitter\" rel=\"nofollow\">Facebook</a>                    167\n",
       "<a href=\"http://twitter.com/#!/download/ipad\" rel=\"nofollow\">Twitter for iPad</a>        165\n",
       "<a href=\"http://www.twitter.com\" rel=\"nofollow\">Twitter for Windows Phone</a>            139\n",
       "<a href=\"http://onlywire.com/\" rel=\"nofollow\">OnlyWire / Official App</a>                136\n",
       "<a href=\"http://www.twitter.com\" rel=\"nofollow\">Twitter for Windows</a>                  110\n",
       "<a href=\"https://mobile.twitter.com\" rel=\"nofollow\">Mobile Web (M2)</a>                  105\n",
       "<a href=\"http://www.google.com/\" rel=\"nofollow\">Google</a>                               101\n",
       "Name: statusSource, dtype: int64"
      ]
     },
     "execution_count": 15,
     "metadata": {},
     "output_type": "execute_result"
    }
   ],
   "source": [
    "#List platforms that have more than 100 tweets\n",
    "top_platforms = platform_count.loc[platform_count>100]\n",
    "top_platforms"
   ]
  },
  {
   "cell_type": "code",
   "execution_count": 16,
   "metadata": {
    "colab": {
     "base_uri": "https://localhost:8080/",
     "height": 260
    },
    "colab_type": "code",
    "executionInfo": {
     "elapsed": 1769,
     "status": "ok",
     "timestamp": 1598595641379,
     "user": {
      "displayName": "Aishwarya Singh",
      "photoUrl": "https://lh3.googleusercontent.com/a-/AOh14GgeJwfn4BdBDCAplWi_kdtB9FRssOpXO7T_aMgg=s64",
      "userId": "01105858832371513140"
     },
     "user_tz": -330
    },
    "id": "uI6HYcpaujjt",
    "outputId": "c1f6fa52-47a7-457d-89db-e5e66c03b70c"
   },
   "outputs": [
    {
     "data": {
      "text/plain": [
       "0       android\n",
       "1           Web\n",
       "2        iphone\n",
       "3     tweetdeck\n",
       "4        mobile\n",
       "5        mobile\n",
       "6      facebook\n",
       "7          ipad\n",
       "8       Windows\n",
       "9      onlywire\n",
       "10      Windows\n",
       "11       mobile\n",
       "12       google\n",
       "Name: index, dtype: object"
      ]
     },
     "execution_count": 16,
     "metadata": {},
     "output_type": "execute_result"
    }
   ],
   "source": [
    "def platform_type(x):\n",
    "    ser = re.search( r\"android|iphone|web|windows|mobile|google|facebook|ipad|tweetdeck|onlywire\", x, re.IGNORECASE)\n",
    "    if ser:\n",
    "        return ser.group()\n",
    "    else:\n",
    "        return None\n",
    "\n",
    "#reset index of the series\n",
    "top_platforms = top_platforms.reset_index()[\"index\"]\n",
    "\n",
    "#extract platform types\n",
    "top_platforms.apply(lambda x: platform_type(x))"
   ]
  },
  {
   "cell_type": "markdown",
   "metadata": {
    "colab_type": "text",
    "id": "GPYLjXMPujjz"
   },
   "source": [
    "### b. Extracting hashtags from the tweets"
   ]
  },
  {
   "cell_type": "code",
   "execution_count": 17,
   "metadata": {
    "colab": {
     "base_uri": "https://localhost:8080/",
     "height": 104
    },
    "colab_type": "code",
    "executionInfo": {
     "elapsed": 1315,
     "status": "ok",
     "timestamp": 1598595717032,
     "user": {
      "displayName": "Aishwarya Singh",
      "photoUrl": "https://lh3.googleusercontent.com/a-/AOh14GgeJwfn4BdBDCAplWi_kdtB9FRssOpXO7T_aMgg=s64",
      "userId": "01105858832371513140"
     },
     "user_tz": -330
    },
    "id": "q5YAxA2Bujj0",
    "outputId": "44e30822-4e78-4394-b1b5-7f6d4522daea"
   },
   "outputs": [
    {
     "name": "stdout",
     "output_type": "stream",
     "text": [
      "Tweet:\n",
      " RT @Atheist_Krishna: The effect of #Demonetization !!\r\n",
      ". https://t.co/A8of7zh2f5\n",
      "Hashtag:\n",
      " #Demonetization\n"
     ]
    }
   ],
   "source": [
    "# Extract first hashtag from a tweet\n",
    "text = \"RT @Atheist_Krishna: The effect of #Demonetization !!\\r\\n. https://t.co/A8of7zh2f5\"\n",
    "hashtag = re.search('#\\w+', text)\n",
    "\n",
    "print(\"Tweet:\\n\", text)\n",
    "print(\"Hashtag:\\n\", hashtag.group())"
   ]
  },
  {
   "cell_type": "code",
   "execution_count": 18,
   "metadata": {
    "colab": {
     "base_uri": "https://localhost:8080/",
     "height": 106
    },
    "colab_type": "code",
    "executionInfo": {
     "elapsed": 1262,
     "status": "ok",
     "timestamp": 1598595737737,
     "user": {
      "displayName": "Aishwarya Singh",
      "photoUrl": "https://lh3.googleusercontent.com/a-/AOh14GgeJwfn4BdBDCAplWi_kdtB9FRssOpXO7T_aMgg=s64",
      "userId": "01105858832371513140"
     },
     "user_tz": -330
    },
    "id": "3v8pCJY_ujj4",
    "outputId": "5f9f6ca5-aa60-40d9-c71b-c9db9db2fd8c"
   },
   "outputs": [
    {
     "name": "stdout",
     "output_type": "stream",
     "text": [
      "Tweet:\n",
      " RT @kapil_kausik: #Doltiwal I mean #JaiChandKejriwal is \"hurt\" by #Demonetization as the same has rendered USELESS <ed><U+00A0><U+00BD><ed><U+00B1><U+0089> \"acquired funds\" No wo\n",
      "Hashtag:\n",
      " ['#Doltiwal', '#JaiChandKejriwal', '#Demonetization']\n"
     ]
    }
   ],
   "source": [
    "# Extract multiple hastags from a tweet\n",
    "text = \"\"\"RT @kapil_kausik: #Doltiwal I mean #JaiChandKejriwal is \"hurt\" by #Demonetization as the same has rendered USELESS <ed><U+00A0><U+00BD><ed><U+00B1><U+0089> \"acquired funds\" No wo\"\"\"\n",
    "hashtags = re.findall('#\\w+', text)\n",
    "\n",
    "print(\"Tweet:\\n\", text)\n",
    "print(\"Hashtag:\\n\", hashtags)"
   ]
  },
  {
   "cell_type": "code",
   "execution_count": 19,
   "metadata": {
    "colab": {},
    "colab_type": "code",
    "executionInfo": {
     "elapsed": 2165,
     "status": "ok",
     "timestamp": 1598595757740,
     "user": {
      "displayName": "Aishwarya Singh",
      "photoUrl": "https://lh3.googleusercontent.com/a-/AOh14GgeJwfn4BdBDCAplWi_kdtB9FRssOpXO7T_aMgg=s64",
      "userId": "01105858832371513140"
     },
     "user_tz": -330
    },
    "id": "ylPqdl0Lujj9"
   },
   "outputs": [],
   "source": [
    "df['hashtags']=df['text'].apply(lambda x: re.findall('#\\w+', x))"
   ]
  },
  {
   "cell_type": "code",
   "execution_count": 20,
   "metadata": {
    "colab": {
     "base_uri": "https://localhost:8080/",
     "height": 206
    },
    "colab_type": "code",
    "executionInfo": {
     "elapsed": 1503,
     "status": "ok",
     "timestamp": 1598595757747,
     "user": {
      "displayName": "Aishwarya Singh",
      "photoUrl": "https://lh3.googleusercontent.com/a-/AOh14GgeJwfn4BdBDCAplWi_kdtB9FRssOpXO7T_aMgg=s64",
      "userId": "01105858832371513140"
     },
     "user_tz": -330
    },
    "id": "Hvv7NXB4ujkC",
    "outputId": "ba8b8b6a-36b1-42e4-b6ca-9af8e24a0eab"
   },
   "outputs": [
    {
     "data": {
      "text/html": [
       "<div>\n",
       "<style scoped>\n",
       "    .dataframe tbody tr th:only-of-type {\n",
       "        vertical-align: middle;\n",
       "    }\n",
       "\n",
       "    .dataframe tbody tr th {\n",
       "        vertical-align: top;\n",
       "    }\n",
       "\n",
       "    .dataframe thead th {\n",
       "        text-align: right;\n",
       "    }\n",
       "</style>\n",
       "<table border=\"1\" class=\"dataframe\">\n",
       "  <thead>\n",
       "    <tr style=\"text-align: right;\">\n",
       "      <th></th>\n",
       "      <th>text</th>\n",
       "      <th>hashtags</th>\n",
       "    </tr>\n",
       "  </thead>\n",
       "  <tbody>\n",
       "    <tr>\n",
       "      <th>0</th>\n",
       "      <td>@rssurjewala: Critical question: Was PayTM inf...</td>\n",
       "      <td>[#Demonetization]</td>\n",
       "    </tr>\n",
       "    <tr>\n",
       "      <th>1</th>\n",
       "      <td>@Hemant_80: Did you vote on #Demonetization on...</td>\n",
       "      <td>[#Demonetization]</td>\n",
       "    </tr>\n",
       "    <tr>\n",
       "      <th>2</th>\n",
       "      <td>@roshankar: Former FinSec, RBI Dy Governor, CB...</td>\n",
       "      <td>[#Demonetization]</td>\n",
       "    </tr>\n",
       "    <tr>\n",
       "      <th>3</th>\n",
       "      <td>@ANI_news: Gurugram (Haryana): Post office emp...</td>\n",
       "      <td>[#demonetization]</td>\n",
       "    </tr>\n",
       "    <tr>\n",
       "      <th>4</th>\n",
       "      <td>@satishacharya: Reddy Wedding! @mail_today car...</td>\n",
       "      <td>[#demonetization, #ReddyWedding]</td>\n",
       "    </tr>\n",
       "  </tbody>\n",
       "</table>\n",
       "</div>"
      ],
      "text/plain": [
       "                                                text  \\\n",
       "0  @rssurjewala: Critical question: Was PayTM inf...   \n",
       "1  @Hemant_80: Did you vote on #Demonetization on...   \n",
       "2  @roshankar: Former FinSec, RBI Dy Governor, CB...   \n",
       "3  @ANI_news: Gurugram (Haryana): Post office emp...   \n",
       "4  @satishacharya: Reddy Wedding! @mail_today car...   \n",
       "\n",
       "                           hashtags  \n",
       "0                 [#Demonetization]  \n",
       "1                 [#Demonetization]  \n",
       "2                 [#Demonetization]  \n",
       "3                 [#demonetization]  \n",
       "4  [#demonetization, #ReddyWedding]  "
      ]
     },
     "execution_count": 20,
     "metadata": {},
     "output_type": "execute_result"
    }
   ],
   "source": [
    "df[['text','hashtags']].head()"
   ]
  },
  {
   "cell_type": "markdown",
   "metadata": {
    "colab_type": "text",
    "id": "jGXFs7YIujkH"
   },
   "source": [
    "## 4. Regex Challenge\n",
    "\n",
    "Now that you have learned all the concepts regarding regex and have also seen it in action, it's time for you to utilize that to solve a challenge all by yourself. Here are some of the tasks that you have to do - \n",
    "\n",
    "### a. Removing URLs from tweets\n",
    "\n",
    "**Difficulty - Easy**\n",
    "\n",
    "There are multiple URLs present in individual tweet's `text` and they don't neccessarily provide useful information so we can get rid of them. For example -  \n",
    "\n",
    "*@Joydas: Question in Narendra Modi App where PM is taking feedback if people support his #DeMonetization strategy https://t.co/pYgK8Rmg7r*\n",
    "\n",
    "\n",
    "We can very well remove the URL as it isn't providing much useful information.\n"
   ]
  },
  {
   "cell_type": "code",
   "execution_count": 21,
   "metadata": {
    "colab": {},
    "colab_type": "code",
    "id": "o6I4k1QuujkJ"
   },
   "outputs": [],
   "source": [
    "# Your Code Here\n",
    "#Pattern = 'https?://[A-Za-z0-9.-/]+'"
   ]
  },
  {
   "cell_type": "code",
   "execution_count": 22,
   "metadata": {},
   "outputs": [],
   "source": [
    "# Removing URLs from all the tweets\n",
    "df['text']=df['text'].apply(lambda x: re.sub('https?://[A-Za-z0-9.-/]+','',x))"
   ]
  },
  {
   "cell_type": "code",
   "execution_count": 23,
   "metadata": {},
   "outputs": [
    {
     "data": {
      "text/plain": [
       "\"Many opposition leaders are with @narendramodi on the #Demonetization \\r\\nAnd respect their decision,but support opposition just b'coz of party\""
      ]
     },
     "execution_count": 23,
     "metadata": {},
     "output_type": "execute_result"
    }
   ],
   "source": [
    "df['text'][10]"
   ]
  },
  {
   "cell_type": "markdown",
   "metadata": {
    "colab_type": "text",
    "id": "5Fbl6z9iujkO"
   },
   "source": [
    "### b. Extract Top 100 mentions\n",
    "\n",
    "**Difficulty - Medium**\n",
    "\n",
    "Many of the tweets have mentions of people in the form *@username*, for example see the following tweet - \n",
    "\n",
    "*@Joydas: Question in Narendra Modi App where PM is taking feedback if people support his #DeMonetization strategy https://t.co/pYgK8Rmg7r*\n",
    "\n",
    "Here *@Joydas* is a mention. You need to extract mentions from all the tweets and find which are the top 100 usernames."
   ]
  },
  {
   "cell_type": "code",
   "execution_count": 24,
   "metadata": {
    "colab": {},
    "colab_type": "code",
    "id": "tdgcC6-uujkO"
   },
   "outputs": [],
   "source": [
    "# Your Code Here\n",
    "# Extract mentions from all the tweets\n",
    "mentions=df['text'].apply(lambda x : re.findall(r'@\\w+',x))"
   ]
  },
  {
   "cell_type": "code",
   "execution_count": 25,
   "metadata": {},
   "outputs": [
    {
     "data": {
      "text/plain": [
       "0                       [@rssurjewala]\n",
       "1                         [@Hemant_80]\n",
       "2                         [@roshankar]\n",
       "3                          [@ANI_news]\n",
       "4        [@satishacharya, @mail_today]\n",
       "                     ...              \n",
       "14935                [@saxenavishakha]\n",
       "14936                               []\n",
       "14937                [@bharat_builder]\n",
       "14938          [@Stupidosaur, @Vidyut]\n",
       "14939                        [@Vidyut]\n",
       "Name: text, Length: 14940, dtype: object"
      ]
     },
     "execution_count": 25,
     "metadata": {},
     "output_type": "execute_result"
    }
   ],
   "source": [
    "mentions"
   ]
  },
  {
   "cell_type": "code",
   "execution_count": 26,
   "metadata": {},
   "outputs": [
    {
     "data": {
      "text/plain": [
       "18888"
      ]
     },
     "execution_count": 26,
     "metadata": {},
     "output_type": "execute_result"
    }
   ],
   "source": [
    "lst_mentions = [item for mention in mentions for item in mention]\n",
    "len(lst_mentions)"
   ]
  },
  {
   "cell_type": "code",
   "execution_count": 27,
   "metadata": {},
   "outputs": [],
   "source": [
    "from collections import Counter "
   ]
  },
  {
   "cell_type": "code",
   "execution_count": 28,
   "metadata": {
    "colab": {
     "base_uri": "https://localhost:8080/",
     "height": 191
    },
    "colab_type": "code",
    "executionInfo": {
     "elapsed": 1338,
     "status": "ok",
     "timestamp": 1598596217565,
     "user": {
      "displayName": "Aishwarya Singh",
      "photoUrl": "https://lh3.googleusercontent.com/a-/AOh14GgeJwfn4BdBDCAplWi_kdtB9FRssOpXO7T_aMgg=s64",
      "userId": "01105858832371513140"
     },
     "user_tz": -330
    },
    "id": "mNCou9Vpujkw",
    "outputId": "072efc83-676b-4b9d-e731-8e0ed309b994"
   },
   "outputs": [
    {
     "data": {
      "text/plain": [
       "Counter({'@rssurjewala': 284,\n",
       "         '@Hemant_80': 62,\n",
       "         '@roshankar': 21,\n",
       "         '@ANI_news': 26,\n",
       "         '@satishacharya': 6,\n",
       "         '@mail_today': 6,\n",
       "         '@DerekScissors1': 1,\n",
       "         '@ambazaarmag': 1,\n",
       "         '@gauravcsawant': 541,\n",
       "         '@Joydeep_911': 102,\n",
       "         '@sumitbhati2002': 1,\n",
       "         '@narendramodi': 1138,\n",
       "         '@Joydas': 114,\n",
       "         '@Jaggesh2': 1,\n",
       "         '@Atheist_Krishna': 135,\n",
       "         '@sona2905': 3,\n",
       "         '@Dipankar_cpiml': 44,\n",
       "         '@pGurus1': 74,\n",
       "         '@MahikaInfra': 23,\n",
       "         '@Swamy39': 21,\n",
       "         '@kapil_kausik': 17,\n",
       "         '@AAPVind': 7,\n",
       "         '@naam_pk': 8,\n",
       "         '@Gadgets360': 11,\n",
       "         '@_avenu': 6,\n",
       "         '@DonMu': 6,\n",
       "         '@DrGPradhan': 90,\n",
       "         '@minimathur': 79,\n",
       "         '@mayankjain100': 2,\n",
       "         '@arunjaitley': 114,\n",
       "         '@kanimozhi': 153,\n",
       "         '@dineshgrao': 3,\n",
       "         '@harshkkapoor': 60,\n",
       "         '@na': 59,\n",
       "         '@rohanmlw': 1,\n",
       "         '@sardesairajdeep': 29,\n",
       "         '@ravishndtv': 13,\n",
       "         '@Punitspeaks': 28,\n",
       "         '@PMOIndia': 246,\n",
       "         '@nmleo1': 2,\n",
       "         '@MinhazMerchant': 29,\n",
       "         '@ZeeNewsSports': 13,\n",
       "         '@harbhajan_singh': 14,\n",
       "         '@upma23': 29,\n",
       "         '@UnS': 27,\n",
       "         '@ModiBharosa': 540,\n",
       "         '@bhaiyyajispeaks': 16,\n",
       "         '@NilimDutta': 9,\n",
       "         '@Currency_crisis': 1,\n",
       "         '@timesofindia': 24,\n",
       "         '@ashu3page': 171,\n",
       "         '@TheOfficialSBI': 17,\n",
       "         '@BJP4India': 26,\n",
       "         '@RanaAyyub': 22,\n",
       "         '@TruthOfGujarat': 1,\n",
       "         '@AnupamPkher': 4,\n",
       "         '@sitaramlamba': 10,\n",
       "         '@embracetheart': 1,\n",
       "         '@CMOMaharashtra': 29,\n",
       "         '@sonunigam': 16,\n",
       "         '@ShashiTharoor': 231,\n",
       "         '@anandkamal': 54,\n",
       "         '@DonMufflerMan': 1,\n",
       "         '@karnataka_ioc': 16,\n",
       "         '@indianoilcl': 17,\n",
       "         '@PIB_India': 113,\n",
       "         '@DasShaktikanta': 195,\n",
       "         '@DeshhBhakt': 1,\n",
       "         '@MonaAmbegaonkar': 1,\n",
       "         '@dhrumilpatel': 1,\n",
       "         '@bi_india': 4,\n",
       "         '@airtelindia': 3,\n",
       "         '@sritara': 1,\n",
       "         '@GabbbarSingh': 7,\n",
       "         '@sidin': 3,\n",
       "         '@YSRCParty': 40,\n",
       "         '@ncbn': 27,\n",
       "         '@_Hinduism_': 2,\n",
       "         '@myvotetoday': 37,\n",
       "         '@IndiaFactsOrg': 13,\n",
       "         '@rishibagree': 13,\n",
       "         '@ShefVaidya': 48,\n",
       "         '@ItzCash': 6,\n",
       "         '@suryanavin': 8,\n",
       "         '@jay_ambadi': 19,\n",
       "         '@JasBJP': 3,\n",
       "         '@BJPKonnagar': 3,\n",
       "         '@AmitShah': 16,\n",
       "         '@s': 3,\n",
       "         '@jamewils': 114,\n",
       "         '@MamtaOfficiaI': 20,\n",
       "         '@sandipsabharwal': 12,\n",
       "         '@JLLIndia': 3,\n",
       "         '@aartic02': 72,\n",
       "         '@YRDeshmukh': 7,\n",
       "         '@realDonaldTrump': 3,\n",
       "         '@AmitDhiman_': 7,\n",
       "         '@r_raghuraj': 2,\n",
       "         '@SharmaKhemchand': 2,\n",
       "         '@malviyamit': 5,\n",
       "         '@tweepul': 24,\n",
       "         '@quizderek': 7,\n",
       "         '@Goldenthrust': 1,\n",
       "         '@TalkOrTweets': 1,\n",
       "         '@suraj_agarwal_': 1,\n",
       "         '@RoflGandhi_': 151,\n",
       "         '@RajanAnandan': 1,\n",
       "         '@ArvindKejriwal': 185,\n",
       "         '@AamAadmiParty': 16,\n",
       "         '@TimesNow': 26,\n",
       "         '@mrpatel1954': 1,\n",
       "         '@Savitri4Ever': 2,\n",
       "         '@ajit_ranade': 4,\n",
       "         '@DrKumarVishwas': 358,\n",
       "         '@OfficeofRG': 1,\n",
       "         '@MDiplomacyWORLD': 3,\n",
       "         '@RealHistoryPic': 42,\n",
       "         '@FTIIndia': 3,\n",
       "         '@muglikar_': 12,\n",
       "         '@centerofright': 237,\n",
       "         '@Ra_THORe': 75,\n",
       "         '@P': 40,\n",
       "         '@RealZaidHamid_': 3,\n",
       "         '@SriSri': 7,\n",
       "         '@penisgarlic': 1,\n",
       "         '@OfficeOfRG': 46,\n",
       "         '@BaradaDs': 3,\n",
       "         '@abhic_1983': 21,\n",
       "         '@SitaramYechury': 26,\n",
       "         '@NaIna0806': 1,\n",
       "         '@dnaAfterHrs': 3,\n",
       "         '@justtneeraj': 2,\n",
       "         '@thenewshour': 2,\n",
       "         '@INCIndia': 13,\n",
       "         '@MBQasmi': 1,\n",
       "         '@anechidna': 1,\n",
       "         '@siri_notsiri': 1,\n",
       "         '@MarcoWerman': 2,\n",
       "         '@pritheworld': 2,\n",
       "         '@rajeev_mp': 21,\n",
       "         '@chaks1969': 1,\n",
       "         '@mvmeet': 1,\n",
       "         '@BrainandMoney': 3,\n",
       "         '@ShekharGupta': 5,\n",
       "         '@hvgoenka': 4,\n",
       "         '@mrsfunnybones': 5,\n",
       "         '@Iamanirudhsethi': 4,\n",
       "         '@Bollywood_Stuff': 1,\n",
       "         '@SreeIyer1': 10,\n",
       "         '@ndtv': 32,\n",
       "         '@arvind_69': 1,\n",
       "         '@ArshadWarsi': 11,\n",
       "         '@vijaychavda9': 1,\n",
       "         '@Tata_ValueHomes': 2,\n",
       "         '@sajid_Yousuf_': 11,\n",
       "         '@UrjitPatelRBI': 27,\n",
       "         '@sambitswaraj': 11,\n",
       "         '@IndiaToday': 47,\n",
       "         '@SrBachchan': 7,\n",
       "         '@AUTOTODAYMAG': 1,\n",
       "         '@PMOinIndia': 1,\n",
       "         '@MamataOfficial': 41,\n",
       "         '@deeepakkher': 1,\n",
       "         '@rsprasad': 8,\n",
       "         '@inshorts': 2,\n",
       "         '@ShirishKunder': 56,\n",
       "         '@iarunmani': 8,\n",
       "         '@godavar': 12,\n",
       "         '@Paytm': 21,\n",
       "         '@HPCL': 15,\n",
       "         '@Vidyut': 18,\n",
       "         '@raveeshbhalla': 9,\n",
       "         '@dpradhanbjp': 4,\n",
       "         '@Ashut': 3,\n",
       "         '@saaxenanurag': 15,\n",
       "         '@finiterecursion': 1,\n",
       "         '@LocalPressCo': 2,\n",
       "         '@IRS_India': 2,\n",
       "         '@MensRightsFF': 1,\n",
       "         '@jackerhack': 28,\n",
       "         '@internetfreedom': 27,\n",
       "         '@NARENDRAMODI': 3,\n",
       "         '@MediaCooks': 1,\n",
       "         '@MVenkaiahNaidu': 14,\n",
       "         '@gauravonnet': 1,\n",
       "         '@ficci_india': 2,\n",
       "         '@followassocham': 2,\n",
       "         '@newley': 2,\n",
       "         '@BeingRight': 1,\n",
       "         '@TruthRoars': 1,\n",
       "         '@gauravbh': 1,\n",
       "         '@NimmaYash': 4,\n",
       "         '@Pradesh18Kan': 4,\n",
       "         '@RBI': 51,\n",
       "         '@Dattaamit11Amit': 7,\n",
       "         '@sush091979': 2,\n",
       "         '@madhuhalkani': 1,\n",
       "         '@surnell': 1,\n",
       "         '@MrsGandhi': 1,\n",
       "         '@DrS': 1,\n",
       "         '@bsindia': 32,\n",
       "         '@sukanyaiyer2': 8,\n",
       "         '@UnSubtleDesi': 11,\n",
       "         '@TarekFatah': 50,\n",
       "         '@Demo_Kaisi': 2,\n",
       "         '@MohanRamadurai': 5,\n",
       "         '@mocreighton': 1,\n",
       "         '@11AshokaRoad': 2,\n",
       "         '@sadhavi': 1,\n",
       "         '@blogadda': 1,\n",
       "         '@ZERCHapp': 1,\n",
       "         '@Jal_Kukdi': 1,\n",
       "         '@aroonpurie': 7,\n",
       "         '@coolfunnytshirt': 8,\n",
       "         '@1Patelzuber': 22,\n",
       "         '@digitindia': 2,\n",
       "         '@GovernerOfIndia': 1,\n",
       "         '@pinaki_dasgupta': 1,\n",
       "         '@thebetterindia': 7,\n",
       "         '@Meena_ETVnews': 2,\n",
       "         '@9': 3,\n",
       "         '@MaheshJagga': 4,\n",
       "         '@NarendraModi': 5,\n",
       "         '@dna': 85,\n",
       "         '@ChandrusWeb': 2,\n",
       "         '@indianyogi': 7,\n",
       "         '@renu_18': 17,\n",
       "         '@BWBusinessworld': 13,\n",
       "         '@surjitbhalla': 3,\n",
       "         '@c_assisi': 1,\n",
       "         '@livemint': 3,\n",
       "         '@MintOnSunday': 1,\n",
       "         '@cohelporg': 1,\n",
       "         '@chichupedathaa': 1,\n",
       "         '@coomarashish': 2,\n",
       "         '@yrdeshmukh': 3,\n",
       "         '@manakgupta': 4,\n",
       "         '@ajaymaken': 4,\n",
       "         '@DelhiPCC': 1,\n",
       "         '@JaiPoswal1995': 12,\n",
       "         '@vimuktaatma': 4,\n",
       "         '@MaayaaSarabhai': 1,\n",
       "         '@anilkohli54': 52,\n",
       "         '@saxenask352': 1,\n",
       "         '@CREDAINational': 4,\n",
       "         '@Dhakad_VSL': 1,\n",
       "         '@rachitmathur5': 1,\n",
       "         '@sardanarohit': 5,\n",
       "         '@msisodia': 33,\n",
       "         '@_YogendraYadav': 3,\n",
       "         '@AnchliaAnil': 2,\n",
       "         '@DikshitSmita': 5,\n",
       "         '@amishra77': 14,\n",
       "         '@shashidigital': 5,\n",
       "         '@shaggyno1': 1,\n",
       "         '@arifkhan7': 6,\n",
       "         '@tinucherian': 7,\n",
       "         '@vaishaliishere': 9,\n",
       "         '@anandmahindra': 1,\n",
       "         '@tjain2016': 23,\n",
       "         '@SethShruti': 1,\n",
       "         '@IndiaFirst_2019': 12,\n",
       "         '@Rupalijee': 1,\n",
       "         '@MSA_IND': 1,\n",
       "         '@navgujaratsamay': 1,\n",
       "         '@pratap_bose': 5,\n",
       "         '@devduttmyth': 5,\n",
       "         '@kavita_krishnan': 24,\n",
       "         '@washingtonpost': 3,\n",
       "         '@NewsX': 4,\n",
       "         '@JhaSanjay': 3,\n",
       "         '@PTI_News': 6,\n",
       "         '@hemster': 1,\n",
       "         '@CMofKarnataka': 1,\n",
       "         '@parameshwar': 1,\n",
       "         '@SV99999': 1,\n",
       "         '@AITCofficial': 3,\n",
       "         '@jairajp': 62,\n",
       "         '@bishnoikuldeep': 1,\n",
       "         '@awasthis': 3,\n",
       "         '@5pm': 2,\n",
       "         '@News18India': 2,\n",
       "         '@yugaparivartan': 1,\n",
       "         '@DrShobha': 45,\n",
       "         '@jankibaat1': 3,\n",
       "         '@nipfp_org_in': 1,\n",
       "         '@pinakicha': 2,\n",
       "         '@sudarsansand': 10,\n",
       "         '@airnewsalerts': 27,\n",
       "         '@vijayshekhar': 7,\n",
       "         '@Manjunaath': 1,\n",
       "         '@maitreesh': 1,\n",
       "         '@roadscholarz': 1,\n",
       "         '@PtAmitSharma': 2,\n",
       "         '@smita_muk': 2,\n",
       "         '@KashmirLobby': 1,\n",
       "         '@manishaBJP': 1,\n",
       "         '@kunfaaya': 1,\n",
       "         '@ruhitewari': 10,\n",
       "         '@madskak': 46,\n",
       "         '@AnandM25_TNIE': 1,\n",
       "         '@NewIndianXpress': 18,\n",
       "         '@Suparna_Singh': 1,\n",
       "         '@MalikAshok': 1,\n",
       "         '@HinduRajyam': 1,\n",
       "         '@News_Pictures1': 1,\n",
       "         '@asiannewsindia': 1,\n",
       "         '@KaranArora': 1,\n",
       "         '@ggiittiikkaa': 1,\n",
       "         '@Retributions': 2,\n",
       "         '@ippatel': 116,\n",
       "         '@akhileshyadav': 1,\n",
       "         '@_WomanInAttic': 1,\n",
       "         '@tweetmods': 1,\n",
       "         '@srivatsayb': 1,\n",
       "         '@gsurya': 3,\n",
       "         '@BhairaviAshar': 1,\n",
       "         '@IamRitzV': 22,\n",
       "         '@BJPLive': 5,\n",
       "         '@Sharmistha_GK': 2,\n",
       "         '@ZestMoney': 1,\n",
       "         '@JainSaurabh85': 2,\n",
       "         '@UNESCO': 1,\n",
       "         '@RKRadhakrishn': 1,\n",
       "         '@BeingReva': 1,\n",
       "         '@giniromet': 6,\n",
       "         '@Sanjay_Dixit': 2,\n",
       "         '@tufailelif': 6,\n",
       "         '@publictvnews': 2,\n",
       "         '@prajavani': 1,\n",
       "         '@Hotel_MET': 4,\n",
       "         '@anuragbatrayo': 3,\n",
       "         '@BindasBolshy': 1,\n",
       "         '@JanLokPaal': 5,\n",
       "         '@CNNnews18': 37,\n",
       "         '@c_sirisha': 1,\n",
       "         '@taxmannindia': 1,\n",
       "         '@SMedia4': 1,\n",
       "         '@smitharnair': 1,\n",
       "         '@JammuKashmir5': 10,\n",
       "         '@laxman_xy': 9,\n",
       "         '@NitishKumar': 3,\n",
       "         '@tv9kannada': 4,\n",
       "         '@CNBCTV18News': 2,\n",
       "         '@mediacrooks': 5,\n",
       "         '@TweetZaade': 1,\n",
       "         '@uppalj': 1,\n",
       "         '@InfoAboutSunny': 1,\n",
       "         '@vikramreuters': 6,\n",
       "         '@anjanathadhani': 1,\n",
       "         '@chiraghcherian': 1,\n",
       "         '@Savings': 2,\n",
       "         '@Current': 2,\n",
       "         '@MIB_India': 79,\n",
       "         '@FinMinIndia': 104,\n",
       "         '@TheNextSiValley': 1,\n",
       "         '@SundayTweeter': 1,\n",
       "         '@manaseit': 1,\n",
       "         '@dpurkayastha': 2,\n",
       "         '@bonddheeru': 1,\n",
       "         '@suvarnanewstv': 2,\n",
       "         '@asraghunath': 1,\n",
       "         '@deep_anchor': 25,\n",
       "         '@LegallyIndia': 1,\n",
       "         '@YSRCPFriends': 2,\n",
       "         '@Filmibeat': 1,\n",
       "         '@20': 1,\n",
       "         '@iYashwant': 1,\n",
       "         '@tech2eets': 2,\n",
       "         '@vifindia': 4,\n",
       "         '@btvnewslive': 1,\n",
       "         '@Rohinisgh_ET': 2,\n",
       "         '@TheDarjChron': 39,\n",
       "         '@bjpbengal': 1,\n",
       "         '@aolschools': 4,\n",
       "         '@Sri': 2,\n",
       "         '@chandreshd': 1,\n",
       "         '@AnandM25': 14,\n",
       "         '@AnanthKumar_BJP': 1,\n",
       "         '@UPPTA1': 3,\n",
       "         '@AshutoshJindalS': 4,\n",
       "         '@flytoak': 3,\n",
       "         '@NotThatPilot': 3,\n",
       "         '@PetroleumMin': 4,\n",
       "         '@ArunThejacks': 1,\n",
       "         '@AshiQuotes': 1,\n",
       "         '@Manankmr': 10,\n",
       "         '@johnstanly': 2,\n",
       "         '@Gitanjali_DS': 12,\n",
       "         '@SigmundQuadros': 1,\n",
       "         '@TheGhostRider31': 1,\n",
       "         '@BJP4INDIA': 8,\n",
       "         '@dhume': 14,\n",
       "         '@lhsummers': 3,\n",
       "         '@IndiaPostOffice': 1,\n",
       "         '@vaidus': 1,\n",
       "         '@s_cartoons': 14,\n",
       "         '@prasanto': 8,\n",
       "         '@ysjagan': 1,\n",
       "         '@econofpak': 1,\n",
       "         '@C0llinFurtado': 1,\n",
       "         '@avd_kvp': 1,\n",
       "         '@RenukaJain6': 8,\n",
       "         '@fgautier26': 6,\n",
       "         '@htTweets': 6,\n",
       "         '@trivedia1234': 1,\n",
       "         '@ArvindKe': 1,\n",
       "         '@ArunSFan': 3,\n",
       "         '@steve_hanke': 179,\n",
       "         '@DaaruBaazMehta': 24,\n",
       "         '@TheMehulPatel': 18,\n",
       "         '@shamee': 4,\n",
       "         '@IndianExpress': 6,\n",
       "         '@RNTata2000': 11,\n",
       "         '@office0ffRG': 1,\n",
       "         '@sumitkashyapjha': 11,\n",
       "         '@YouTube': 159,\n",
       "         '@kapsology': 12,\n",
       "         '@BSLMF': 5,\n",
       "         '@_prashantnair': 7,\n",
       "         '@CNBCTV18Live': 6,\n",
       "         '@MinIT_Telangana': 40,\n",
       "         '@IYC': 5,\n",
       "         '@sureshpprabhu': 9,\n",
       "         '@manojsinhabjp': 4,\n",
       "         '@radha__rk': 1,\n",
       "         '@startupindia': 1,\n",
       "         '@rvaidya2000': 2,\n",
       "         '@sourabhs': 1,\n",
       "         '@AmmU_MaanU': 5,\n",
       "         '@PallabB': 7,\n",
       "         '@PritishNandy': 9,\n",
       "         '@MumbaiMirror': 8,\n",
       "         '@gops333': 35,\n",
       "         '@jitubhaiyajgd': 1,\n",
       "         '@48k': 1,\n",
       "         '@ZeniaIrani': 1,\n",
       "         '@HuffPostIndia': 1,\n",
       "         '@fayedsouza': 1,\n",
       "         '@AxisBank': 1,\n",
       "         '@PMO_India': 2,\n",
       "         '@peter_vas': 9,\n",
       "         '@firstpost': 3,\n",
       "         '@HDFC_Bank': 2,\n",
       "         '@cioandleader': 2,\n",
       "         '@ayushman_06': 1,\n",
       "         '@nytimes': 1,\n",
       "         '@RoflTeja': 3,\n",
       "         '@roamingraghu': 4,\n",
       "         '@Karnikakahen': 2,\n",
       "         '@nitinbhatia121': 1,\n",
       "         '@kanikacart': 4,\n",
       "         '@newspatrolling': 1,\n",
       "         '@juniorbachchan': 1,\n",
       "         '@JayaBachchan': 1,\n",
       "         '@shameenalauddin': 1,\n",
       "         '@c0nvey': 12,\n",
       "         '@AnandGadeSakal': 3,\n",
       "         '@colnrkurup': 1,\n",
       "         '@TajinderBagga': 8,\n",
       "         '@BUnlimted': 4,\n",
       "         '@aruproytweets': 3,\n",
       "         '@vinaydokania': 1,\n",
       "         '@AartiTikoo': 2,\n",
       "         '@jenaanindya': 2,\n",
       "         '@CMO_Odisha': 1,\n",
       "         '@NazemNaqvi': 1,\n",
       "         '@Ms81539475': 1,\n",
       "         '@JantaKaReporter': 5,\n",
       "         '@BBSRBuzz': 1,\n",
       "         '@SAM': 1,\n",
       "         '@IncomeTaxIndia': 31,\n",
       "         '@muntaziraapka': 3,\n",
       "         '@Swadlamudi': 1,\n",
       "         '@sanjuydv': 2,\n",
       "         '@shekhar_ojha': 3,\n",
       "         '@Blunt_Tinku14': 2,\n",
       "         '@DineshR1511': 3,\n",
       "         '@SanjayRautUvach': 1,\n",
       "         '@sonaliranade': 2,\n",
       "         '@SharadYadavMP': 2,\n",
       "         '@ragarwal': 1,\n",
       "         '@NewDelhiTimesIN': 3,\n",
       "         '@FrustIndian': 17,\n",
       "         '@SAURAVK09644570': 6,\n",
       "         '@PM': 6,\n",
       "         '@AmitHPanchal': 10,\n",
       "         '@BookMyChotu': 9,\n",
       "         '@Ateendriyo': 4,\n",
       "         '@VHanumanthRao': 1,\n",
       "         '@ashish0108sheth': 4,\n",
       "         '@jan14anurag': 14,\n",
       "         '@vinay1011': 1,\n",
       "         '@prasannavishy': 3,\n",
       "         '@pavanaja': 5,\n",
       "         '@TheHindu': 1,\n",
       "         '@Being_Angry': 1,\n",
       "         '@nivie': 3,\n",
       "         '@nvmehra': 1,\n",
       "         '@salonishuklaET': 5,\n",
       "         '@girishkuber': 2,\n",
       "         '@aapakhi': 1,\n",
       "         '@AnkitLal': 18,\n",
       "         '@OnmanoramaLive': 2,\n",
       "         '@AshokChoudhaary': 1,\n",
       "         '@digvijaya_28': 31,\n",
       "         '@FreeCharge': 2,\n",
       "         '@YourStoryCo': 1,\n",
       "         '@mandybedi': 5,\n",
       "         '@sushmitadevmp': 2,\n",
       "         '@Dhananter_singh': 1,\n",
       "         '@kejri420': 1,\n",
       "         '@sagarikaghose': 17,\n",
       "         '@TheJohnAbraham': 1,\n",
       "         '@ParvinSharma_': 2,\n",
       "         '@TS_SinghDeo': 1,\n",
       "         '@sbcltr': 1,\n",
       "         '@BDUTT': 17,\n",
       "         '@DesiUvach': 1,\n",
       "         '@barbarindian': 43,\n",
       "         '@NandanNilekani': 4,\n",
       "         '@Komal_Indian': 1,\n",
       "         '@ChockBlain': 4,\n",
       "         '@economictimes': 1,\n",
       "         '@cleviic': 2,\n",
       "         '@AyyappanRamasam': 3,\n",
       "         '@Devinder_Sharma': 5,\n",
       "         '@WeAreBBSR': 1,\n",
       "         '@deba1602': 1,\n",
       "         '@ashishkumar_tw': 1,\n",
       "         '@kumariika': 1,\n",
       "         '@DharmicFundoo': 6,\n",
       "         '@IbrahimTasleem': 7,\n",
       "         '@KJshashi': 1,\n",
       "         '@travisk': 1,\n",
       "         '@sanvai': 1,\n",
       "         '@BlackstoneVG': 1,\n",
       "         '@DineshAgarwal': 1,\n",
       "         '@awesomeindia83': 2,\n",
       "         '@BigBazaar': 2,\n",
       "         '@HRajvansh': 1,\n",
       "         '@TheChaoticNinja': 1,\n",
       "         '@aajtak': 5,\n",
       "         '@AmanatUllah23': 6,\n",
       "         '@ZeeNews': 4,\n",
       "         '@vshl_007': 1,\n",
       "         '@EconomicTimes': 2,\n",
       "         '@salman7khurshid': 1,\n",
       "         '@mashable': 1,\n",
       "         '@MsKajalAggarwal': 2,\n",
       "         '@mitalinikore': 1,\n",
       "         '@Biz2CreditIn': 2,\n",
       "         '@ParichayLegal': 1,\n",
       "         '@bitcoinagile': 4,\n",
       "         '@Smita_Dutta_': 1,\n",
       "         '@Loneranger9': 1,\n",
       "         '@amritabhinder': 1,\n",
       "         '@bk_chudasama': 1,\n",
       "         '@s_manjari': 2,\n",
       "         '@BollypediaNews': 1,\n",
       "         '@AshwinderRaj': 1,\n",
       "         '@gaganagrawal': 2,\n",
       "         '@rachitsharm': 2,\n",
       "         '@NITIAayog': 3,\n",
       "         '@vikrantkumar': 3,\n",
       "         '@soumikdas': 3,\n",
       "         '@InternetHinduz': 4,\n",
       "         '@_pallavighosh': 5,\n",
       "         '@mohitthatte': 5,\n",
       "         '@PedestrianPoet': 3,\n",
       "         '@bjpmp11': 1,\n",
       "         '@SharathVS': 1,\n",
       "         '@absolutelydanny': 1,\n",
       "         '@akpndy': 1,\n",
       "         '@iamShivaNaidu': 3,\n",
       "         '@jgopikrishnan70': 1,\n",
       "         '@olaprexa': 1,\n",
       "         '@VFSGlobal': 1,\n",
       "         '@TimesOFAssam': 1,\n",
       "         '@jeslin_george': 3,\n",
       "         '@cnnnews18': 1,\n",
       "         '@Tanim0104': 6,\n",
       "         '@pragya_bhushan': 14,\n",
       "         '@blue21sky': 1,\n",
       "         '@Rohtakite': 1,\n",
       "         '@A_Observr': 2,\n",
       "         '@tjoseph0010': 1,\n",
       "         '@UttarandhraNow': 1,\n",
       "         '@anisaz9_basit': 2,\n",
       "         '@Shehzad_Ind': 2,\n",
       "         '@KapilMishraAAP': 1,\n",
       "         '@GodrejGroup': 4,\n",
       "         '@pcquest': 1,\n",
       "         '@BHANWARLALSUTH7': 1,\n",
       "         '@arunja': 1,\n",
       "         '@MRVChennai': 2,\n",
       "         '@AnjuNagarajan': 9,\n",
       "         '@Karthick2668': 2,\n",
       "         '@iSKatiyar': 5,\n",
       "         '@BatchMasterInd': 2,\n",
       "         '@aamaaadmiparty': 1,\n",
       "         '@sawandutta': 1,\n",
       "         '@Nishith1608': 1,\n",
       "         '@bhootnath': 1,\n",
       "         '@sanmistryious': 1,\n",
       "         '@AAP_Updates': 1,\n",
       "         '@ArtofLiving': 1,\n",
       "         '@yogrishiramdev': 1,\n",
       "         '@CuriousKudi': 1,\n",
       "         '@mcapitalheight': 2,\n",
       "         '@JaiveerShergill': 18,\n",
       "         '@YesIamSaffron': 27,\n",
       "         '@MiraPokhrel': 1,\n",
       "         '@mirapokhrel': 2,\n",
       "         '@SrinagarTimes_': 2,\n",
       "         '@LangaMahesh': 3,\n",
       "         '@the_h': 3,\n",
       "         '@Arun': 1,\n",
       "         '@ranjithrajvasam': 4,\n",
       "         '@Being_Humor': 3,\n",
       "         '@Awhadspeaks': 1,\n",
       "         '@109': 1,\n",
       "         '@ingujaratinfo': 1,\n",
       "         '@MalharThakar': 1,\n",
       "         '@dhwanigautam': 1,\n",
       "         '@bhhakt': 1,\n",
       "         '@SGGeet': 2,\n",
       "         '@vaidehisachin': 2,\n",
       "         '@assassinsps': 1,\n",
       "         '@Hirav_25': 1,\n",
       "         '@anuragbhateja': 1,\n",
       "         '@CHIRU_NEWS': 2,\n",
       "         '@DDSez': 1,\n",
       "         '@RJSudeshBhat': 4,\n",
       "         '@KicchaSudeep': 4,\n",
       "         '@TheParulYadav': 4,\n",
       "         '@nktpnd': 2,\n",
       "         '@Nk3010Neha': 1,\n",
       "         '@seemamustafa': 1,\n",
       "         '@BJP_RSS': 3,\n",
       "         '@sgurumurthy': 1,\n",
       "         '@ashwinmushran': 1,\n",
       "         '@AnuvabPal': 1,\n",
       "         '@mkvenu1': 3,\n",
       "         '@Brain_Humor': 3,\n",
       "         '@amitgupta0310': 6,\n",
       "         '@SaraHayatShah': 2,\n",
       "         '@iAM_akumarS': 1,\n",
       "         '@forbes': 2,\n",
       "         '@ChoradiyaMehul': 1,\n",
       "         '@kmfameen': 2,\n",
       "         '@jab9777': 3,\n",
       "         '@sreesurya5': 2,\n",
       "         '@ShankhNaad': 1,\n",
       "         '@ahirs': 1,\n",
       "         '@MoviezAdda': 10,\n",
       "         '@BeingSalmanKhan': 10,\n",
       "         '@ItsBollyLive': 6,\n",
       "         '@rachitsharma0': 1,\n",
       "         '@NaanuHindustani': 1,\n",
       "         '@Busvine': 1,\n",
       "         '@Anand_SolKnight': 2,\n",
       "         '@iindrojit': 4,\n",
       "         '@ashwan': 1,\n",
       "         '@SalmanSoz': 17,\n",
       "         '@shuvankr': 1,\n",
       "         '@RiverValleyAMsg': 1,\n",
       "         '@aamir_khan': 4,\n",
       "         '@iamsrk': 1,\n",
       "         '@karanjohar': 1,\n",
       "         '@KapilSharmaK9': 2,\n",
       "         '@HemantRitu7': 2,\n",
       "         '@rjraunac': 1,\n",
       "         '@AShetty84': 1,\n",
       "         '@MRVChenna': 1,\n",
       "         '@karamjitrintu': 5,\n",
       "         '@punjabpc': 5,\n",
       "         '@omjakhar': 1,\n",
       "         '@Visa': 1,\n",
       "         '@Mastercard': 1,\n",
       "         '@AskRuPay': 1,\n",
       "         '@Amit_Diwakar_IN': 2,\n",
       "         '@darjeelingtimes': 1,\n",
       "         '@ls2008': 8,\n",
       "         '@spati2012': 3,\n",
       "         '@djunnarkar74': 1,\n",
       "         '@sanjaynirupam': 2,\n",
       "         '@Myth_busterz': 1,\n",
       "         '@ashokism': 1,\n",
       "         '@Abhishek_Patni': 1,\n",
       "         '@navneetanand': 1,\n",
       "         '@dn': 1,\n",
       "         '@PreetiSMenon': 5,\n",
       "         '@moonsez': 2,\n",
       "         '@BspUp2017': 17,\n",
       "         '@invi': 14,\n",
       "         '@SunilSinghBJP': 1,\n",
       "         '@ShipraSuri': 1,\n",
       "         '@_MiteshPatel': 73,\n",
       "         '@nachikethass': 1,\n",
       "         '@AmarKrishnaJha': 2,\n",
       "         '@Pooja_Gupta': 1,\n",
       "         '@AdityaRajKaul': 2,\n",
       "         '@avatans': 2,\n",
       "         '@RajeevSrinivasa': 5,\n",
       "         '@MayurP2024': 1,\n",
       "         '@bankofbaroda': 1,\n",
       "         '@smartcityrajkot': 1,\n",
       "         '@yamini_jyoti': 8,\n",
       "         '@RitaG74': 8,\n",
       "         '@bainjal': 7,\n",
       "         '@raghurajan21': 1,\n",
       "         '@prettypadmaja': 6,\n",
       "         '@sunetrac': 9,\n",
       "         '@OnlyKollywood': 2,\n",
       "         '@VishalKOfficial': 2,\n",
       "         '@t': 2,\n",
       "         '@ShomaChaudhury': 1,\n",
       "         '@MajorPoonia': 3,\n",
       "         '@MuzzammilAap': 3,\n",
       "         '@PreetiSM': 3,\n",
       "         '@deepaknegi23': 3,\n",
       "         '@nsui': 3,\n",
       "         '@NSA_AjitDoval': 1,\n",
       "         '@JPNadda': 1,\n",
       "         '@AamAdmy': 1,\n",
       "         '@DelhiMuse': 1,\n",
       "         '@bprerna': 1,\n",
       "         '@RantsofIndia': 1,\n",
       "         '@SushmaMMaurya': 1,\n",
       "         '@AAPGujarat': 1,\n",
       "         '@DipendraDipzo': 52,\n",
       "         '@amolsainis': 1,\n",
       "         '@anil_khandal': 1,\n",
       "         '@adybhel': 1,\n",
       "         '@VasundharaBJP': 3,\n",
       "         '@AchaleshAmar': 1,\n",
       "         '@Ch': 1,\n",
       "         '@manickamtagore': 1,\n",
       "         '@PankajPachauri': 7,\n",
       "         '@BillGates': 7,\n",
       "         '@B': 1,\n",
       "         '@tr_partha': 3,\n",
       "         '@ameytirodkar': 1,\n",
       "         '@devyanidilli': 1,\n",
       "         '@MouneshHD': 3,\n",
       "         '@newsflicks': 2,\n",
       "         '@rassboteen': 1,\n",
       "         '@Ave_Six': 1,\n",
       "         '@KEYESEN2000': 1,\n",
       "         '@subichaturvedi': 2,\n",
       "         '@timane': 3,\n",
       "         '@madhurchadha': 1,\n",
       "         '@ICICIBank_Care': 4,\n",
       "         '@priyankac19': 4,\n",
       "         '@jacobinmag': 2,\n",
       "         '@hstapanghosh': 1,\n",
       "         '@ashokepandit': 3,\n",
       "         '@Nikhilrgupta': 1,\n",
       "         '@vmlsanna9': 1,\n",
       "         '@ChickenBiryanii': 1,\n",
       "         '@SinhaPune': 2,\n",
       "         '@iSirArnab': 2,\n",
       "         '@hindustanse': 3,\n",
       "         '@T': 2,\n",
       "         '@ianuragthakur': 2,\n",
       "         '@krist0ph3r': 1,\n",
       "         '@Ram_Guha': 1,\n",
       "         '@shekharkapur': 1,\n",
       "         '@AdityaNair20': 44,\n",
       "         '@PrasadAol': 44,\n",
       "         '@rashminp': 44,\n",
       "         '@geetv79': 27,\n",
       "         '@OnestlyBrutal': 1,\n",
       "         '@mrtkachokra': 1,\n",
       "         '@patelriship': 3,\n",
       "         '@Mallick1962': 1,\n",
       "         '@patrival': 1,\n",
       "         '@UpUpNoDown': 1,\n",
       "         '@AjoyAshirwad': 1,\n",
       "         '@thewire_in': 1,\n",
       "         '@runjhunmehrotra': 1,\n",
       "         '@SatyendarJain': 11,\n",
       "         '@Mr_LoLwa': 10,\n",
       "         '@Manesha76': 1,\n",
       "         '@iKabirBedi': 1,\n",
       "         '@bachikarkaria': 1,\n",
       "         '@kiranshaw': 1,\n",
       "         '@jayantsinha': 1,\n",
       "         '@darokr1': 1,\n",
       "         '@SREEHARI2001': 1,\n",
       "         '@Chopsyturvey': 3,\n",
       "         '@Mass_Comm_Media': 1,\n",
       "         '@GhoshAmitav': 1,\n",
       "         '@LODHA': 1,\n",
       "         '@Realty_Et': 2,\n",
       "         '@the_kkkkhk': 1,\n",
       "         '@absolutethinker': 2,\n",
       "         '@csbhakuni': 2,\n",
       "         '@SPRE_Official': 3,\n",
       "         '@nesoron': 2,\n",
       "         '@savik1012': 1,\n",
       "         '@vanichandra2010': 2,\n",
       "         '@SwarajyaMag': 2,\n",
       "         '@tncpim': 2,\n",
       "         '@Theekkathir': 2,\n",
       "         '@APanagariya': 2,\n",
       "         '@BBCWorld': 1,\n",
       "         '@madhukishwar': 1,\n",
       "         '@SJVatsal': 2,\n",
       "         '@RevathiRajeevan': 8,\n",
       "         '@AashaBisht': 1,\n",
       "         '@HinduIDF': 2,\n",
       "         '@pmoindia': 2,\n",
       "         '@DilliDurAst': 2,\n",
       "         '@girishalva': 1,\n",
       "         '@abhitripathi15': 1,\n",
       "         '@Chikisarkar': 1,\n",
       "         '@DeShobhaa': 1,\n",
       "         '@AQpk': 1,\n",
       "         '@dravirmani': 3,\n",
       "         '@virsanghvi': 1,\n",
       "         '@rupasubramanya': 30,\n",
       "         '@jitenderkhalsa': 7,\n",
       "         '@meshrammanish07': 1,\n",
       "         '@RamraoKP_': 3,\n",
       "         '@naren': 3,\n",
       "         '@ttindia': 5,\n",
       "         '@WhirlingDervesh': 4,\n",
       "         '@SwachhPolitics': 6,\n",
       "         '@PathanAsmakhan': 1,\n",
       "         '@WIONews': 1,\n",
       "         '@anchalvohra': 1,\n",
       "         '@drtamilisaibjp': 1,\n",
       "         '@vishalvkumar': 1,\n",
       "         '@Vaibhav_CFA': 5,\n",
       "         '@Rajharitas': 2,\n",
       "         '@stausifr': 1,\n",
       "         '@Krishnara': 2,\n",
       "         '@prashantktm': 2,\n",
       "         '@rohitavasaha': 1,\n",
       "         '@Neera_26': 1,\n",
       "         '@AAPVed': 1,\n",
       "         '@sharmavaibhav20': 1,\n",
       "         '@allstartupsin': 3,\n",
       "         '@swatisam': 1,\n",
       "         '@Raheelk': 1,\n",
       "         '@ABCYoutubeCh': 2,\n",
       "         '@vishu49': 1,\n",
       "         '@ogash19': 1,\n",
       "         '@shilpakannan': 3,\n",
       "         '@sumongantait': 1,\n",
       "         '@alamgirizvi': 1,\n",
       "         '@urbantreehomes': 1,\n",
       "         '@India_Policy': 4,\n",
       "         '@ndtvindia': 3,\n",
       "         '@RailMinIndia': 5,\n",
       "         '@Abhishek_Mshra': 2,\n",
       "         '@dgogoi': 1,\n",
       "         '@1997INDIAN': 1,\n",
       "         '@ZomatoIN': 1,\n",
       "         '@Ashish_1905': 1,\n",
       "         '@ShootinThoughts': 14,\n",
       "         '@virbhadrasingh': 3,\n",
       "         '@CimGOI': 3,\n",
       "         '@nsitharaman': 10,\n",
       "         '@DoC_GoI': 3,\n",
       "         '@vdehejia': 6,\n",
       "         '@TheApplop': 1,\n",
       "         '@indiaforums': 1,\n",
       "         '@JaydKrish': 1,\n",
       "         '@bhavnapb': 2,\n",
       "         '@rahulroushan': 284,\n",
       "         '@ashokepand': 1,\n",
       "         '@ashokgehlot51': 5,\n",
       "         '@cramachandran': 3,\n",
       "         '@anilrai': 1,\n",
       "         '@SaundiD': 1,\n",
       "         '@Balubal39339348': 1,\n",
       "         '@SimplyShilpi_89': 1,\n",
       "         '@sabeaux': 1,\n",
       "         '@NeetuGarg6': 2,\n",
       "         '@RoshanSdrprop': 3,\n",
       "         '@ahmedtells': 1,\n",
       "         '@SalmanNizami_': 1,\n",
       "         '@tshamsi88': 1,\n",
       "         '@indscribe': 1,\n",
       "         '@asadowaisi': 2,\n",
       "         '@_sabanaqvi': 1,\n",
       "         '@AroundDIndia': 2,\n",
       "         '@AtulEkIndian': 1,\n",
       "         '@_Narad': 1,\n",
       "         '@SBengali': 1,\n",
       "         '@profpaVarghese': 1,\n",
       "         '@SirPareshRawal': 1,\n",
       "         '@SwatiSaxena1231': 1,\n",
       "         '@Divya_Agarwall': 1,\n",
       "         '@kamaalrkhan': 5,\n",
       "         '@TheModiEra': 1,\n",
       "         '@Wealth_Park': 1,\n",
       "         '@Khambatta': 1,\n",
       "         '@Prapanchi': 2,\n",
       "         '@sanjayuvacha': 9,\n",
       "         '@ashok_baruah': 1,\n",
       "         '@Arunjaitely': 1,\n",
       "         '@anupamdeb775': 1,\n",
       "         '@Zakka_Jacob': 5,\n",
       "         '@SachinPilot': 5,\n",
       "         '@GVLNRAO': 5,\n",
       "         '@raghav_chadha': 5,\n",
       "         '@samirdwivedi': 1,\n",
       "         '@krishna73700227': 1,\n",
       "         '@jennyfrky': 1,\n",
       "         '@NooriBadat': 1,\n",
       "         '@AmarUjalaNews': 1,\n",
       "         '@kumar_sumit': 1,\n",
       "         '@IndianInterest': 10,\n",
       "         '@BBCJustinR': 11,\n",
       "         '@sbbfs': 1,\n",
       "         '@theicai': 1,\n",
       "         '@NileshVik': 1,\n",
       "         '@g_smita': 1,\n",
       "         '@shilpitewari': 2,\n",
       "         '@mukulrana': 1,\n",
       "         '@OneGlobeForum': 2,\n",
       "         '@harjivsingh': 2,\n",
       "         '@WorldBank': 50,\n",
       "         '@UN': 1,\n",
       "         '@meet_murtaza': 1,\n",
       "         '@CarnegieIndia': 1,\n",
       "         '@RuchiKom': 1,\n",
       "         '@AnupKaphle': 3,\n",
       "         '@GauravGogoiAsm': 2,\n",
       "         '@_SwarajIndia': 2,\n",
       "         '@AnupamConnects': 2,\n",
       "         '@Arvin': 1,\n",
       "         '@VandanaSsingh': 1,\n",
       "         '@Piktochart': 1,\n",
       "         '@iamsmithaa': 2,\n",
       "         '@mail_toda': 1,\n",
       "         '@NoSylviaPlath': 1,\n",
       "         '@NagasConnect': 1,\n",
       "         '@EverestGroup': 1,\n",
       "         '@sureshnakhua': 1,\n",
       "         '@sharethis': 1,\n",
       "         '@unsubtledesi': 3,\n",
       "         '@IWF_Writers': 1,\n",
       "         '@vasudha_ET': 2,\n",
       "         '@Sanginamby': 1,\n",
       "         '@manijgd': 1,\n",
       "         '@BajajAllianzLIC': 33,\n",
       "         '@rajnathsingh': 5,\n",
       "         '@niteshplatinum': 1,\n",
       "         '@Sanju_Verm': 1,\n",
       "         '@Bhartiya_Invest': 1,\n",
       "         '@YearOfRat': 5,\n",
       "         '@atulkasbekar': 1,\n",
       "         '@Sanju_Verma_': 3,\n",
       "         '@meerasanyal': 2,\n",
       "         '@bcasglobal': 1,\n",
       "         '@suchetadalal': 1,\n",
       "         '@EconomistDK': 1,\n",
       "         '@patelameet': 1,\n",
       "         '@ashujoshi27': 1,\n",
       "         '@YogeshDhamii': 1,\n",
       "         '@RjHarshil': 1,\n",
       "         '@vivekagnihotri': 4,\n",
       "         '@OpinionPoll1': 1,\n",
       "         '@BJP4UP': 2,\n",
       "         '@BSPUttarPradesh': 1,\n",
       "         '@samajwadiparty': 1,\n",
       "         '@lzylion': 1,\n",
       "         '@moneycontrolcom': 9,\n",
       "         '@porinju': 5,\n",
       "         '@psweta16': 1,\n",
       "         '@SanklechaD': 1,\n",
       "         '@BwDisrupt': 5,\n",
       "         '@LocalCircles': 3,\n",
       "         '@rsardana': 3,\n",
       "         '@sangwan_sujata': 3,\n",
       "         '@BabuBeg': 3,\n",
       "         '@nitinSPEAKs': 1,\n",
       "         '@Meltwater': 2,\n",
       "         '@neveraever': 6,\n",
       "         '@Shr3yanshS': 3,\n",
       "         '@CMMadhyaPradesh': 1,\n",
       "         '@dibang': 2,\n",
       "         '@ManUtd': 1,\n",
       "         '@adidas': 1,\n",
       "         '@FCBarcelona': 1,\n",
       "         '@TheHapppySoul': 1,\n",
       "         '@IndiaHistorypic': 2,\n",
       "         '@ziaahmedkhan': 1,\n",
       "         '@YugaYatri': 1,\n",
       "         '@rohit_varghese': 1,\n",
       "         '@Mirchi983Delhi': 1,\n",
       "         '@paawan6994': 1,\n",
       "         '@better_delhincr': 1,\n",
       "         '@Jayaa03': 1,\n",
       "         '@RShivshankar': 1,\n",
       "         ...})"
      ]
     },
     "execution_count": 28,
     "metadata": {},
     "output_type": "execute_result"
    }
   ],
   "source": [
    "count_mentions = Counter(lst_mentions)\n",
    "count_mentions"
   ]
  },
  {
   "cell_type": "code",
   "execution_count": 29,
   "metadata": {
    "colab": {},
    "colab_type": "code",
    "executionInfo": {
     "elapsed": 803,
     "status": "ok",
     "timestamp": 1598596224200,
     "user": {
      "displayName": "Aishwarya Singh",
      "photoUrl": "https://lh3.googleusercontent.com/a-/AOh14GgeJwfn4BdBDCAplWi_kdtB9FRssOpXO7T_aMgg=s64",
      "userId": "01105858832371513140"
     },
     "user_tz": -330
    },
    "id": "0aQEFM9Sujkz"
   },
   "outputs": [
    {
     "data": {
      "text/plain": [
       "[('@evanspiegel', 1311),\n",
       " ('@URautelaForever', 1273),\n",
       " ('@narendramodi', 1138),\n",
       " ('@gauravcsawant', 541),\n",
       " ('@ModiBharosa', 540),\n",
       " ('@DrKumarVishwas', 358),\n",
       " ('@5Forty3', 286),\n",
       " ('@rssurjewala', 284),\n",
       " ('@rahulroushan', 284),\n",
       " ('@PMOIndia', 246),\n",
       " ('@centerofright', 237),\n",
       " ('@ShashiTharoor', 231),\n",
       " ('@DasShaktikanta', 195),\n",
       " ('@ArvindKejriwal', 185),\n",
       " ('@steve_hanke', 179),\n",
       " ('@ashu3page', 171),\n",
       " ('@YouTube', 159),\n",
       " ('@kanimozhi', 153),\n",
       " ('@RoflGandhi_', 151),\n",
       " ('@AskAnshul', 149),\n",
       " ('@Timcast', 147),\n",
       " ('@Atheist_Krishna', 135),\n",
       " ('@ippatel', 116),\n",
       " ('@Joydas', 114),\n",
       " ('@arunjaitley', 114),\n",
       " ('@jamewils', 114),\n",
       " ('@PIB_India', 113),\n",
       " ('@FinMinIndia', 104),\n",
       " ('@attomeybharti', 103),\n",
       " ('@Joydeep_911', 102),\n",
       " ('@Memeghnad', 95),\n",
       " ('@PiyushGoyalOffc', 95),\n",
       " ('@DrGPradhan', 90),\n",
       " ('@dna', 85),\n",
       " ('@arvindsubraman', 80),\n",
       " ('@priyaakulkarni2', 80),\n",
       " ('@minimathur', 79),\n",
       " ('@MIB_India', 79),\n",
       " ('@Ra_THORe', 75),\n",
       " ('@pGurus1', 74),\n",
       " ('@_MiteshPatel', 73),\n",
       " ('@aartic02', 72),\n",
       " ('@aaanupriyaaa', 70),\n",
       " ('@NG_withINC', 68),\n",
       " ('@Hemant_80', 62),\n",
       " ('@jairajp', 62),\n",
       " ('@harshkkapoor', 60),\n",
       " ('@na', 59),\n",
       " ('@ShirishKunder', 56),\n",
       " ('@anandkamal', 54),\n",
       " ('@anilkohli54', 52),\n",
       " ('@DipendraDipzo', 52),\n",
       " ('@RBI', 51),\n",
       " ('@mkatju', 51),\n",
       " ('@TarekFatah', 50),\n",
       " ('@WorldBank', 50),\n",
       " ('@ShefVaidya', 48),\n",
       " ('@mahcongress', 48),\n",
       " ('@IndiaToday', 47),\n",
       " ('@OfficeOfRG', 46),\n",
       " ('@madskak', 46),\n",
       " ('@Stupidosaur', 46),\n",
       " ('@HumorMinistry', 46),\n",
       " ('@DrShobha', 45),\n",
       " ('@Dipankar_cpiml', 44),\n",
       " ('@AdityaNair20', 44),\n",
       " ('@PrasadAol', 44),\n",
       " ('@rashminp', 44),\n",
       " ('@barbarindian', 43),\n",
       " ('@AnnieLowrey', 43),\n",
       " ('@RealHistoryPic', 42),\n",
       " ('@MamataOfficial', 41),\n",
       " ('@SecretaryMEITY', 41),\n",
       " ('@YSRCParty', 40),\n",
       " ('@P', 40),\n",
       " ('@MinIT_Telangana', 40),\n",
       " ('@TheDarjChron', 39),\n",
       " ('@myvotetoday', 37),\n",
       " ('@CNNnews18', 37),\n",
       " ('@CGDev', 37),\n",
       " ('@Nr_Shiralkar', 36),\n",
       " ('@gops333', 35),\n",
       " ('@ms_rana', 34),\n",
       " ('@LionelMedia', 34),\n",
       " ('@MarkDice', 34),\n",
       " ('@amazingatheist', 34),\n",
       " ('@msisodia', 33),\n",
       " ('@BajajAllianzLIC', 33),\n",
       " ('@MilanV', 33),\n",
       " ('@ndtv', 32),\n",
       " ('@bsindia', 32),\n",
       " ('@Janamejayan', 32),\n",
       " ('@IndiaExplained', 32),\n",
       " ('@IncomeTaxIndia', 31),\n",
       " ('@digvijaya_28', 31),\n",
       " ('@rupasubramanya', 30),\n",
       " ('@hi_paresh', 30),\n",
       " ('@sanjayuv', 30),\n",
       " ('@sardesairajdeep', 29),\n",
       " ('@MinhazMerchant', 29)]"
      ]
     },
     "execution_count": 29,
     "metadata": {},
     "output_type": "execute_result"
    }
   ],
   "source": [
    "# Getting top 100 mentions\n",
    "count_mentions.most_common(100)"
   ]
  },
  {
   "cell_type": "code",
   "execution_count": null,
   "metadata": {
    "colab": {},
    "colab_type": "code",
    "id": "4ylIvY7Uwqtg"
   },
   "outputs": [],
   "source": []
  }
 ],
 "metadata": {
  "colab": {
   "collapsed_sections": [],
   "name": "4.6 Using RegEx on Real-World Dataset.ipynb",
   "provenance": []
  },
  "kernelspec": {
   "display_name": "Python 3",
   "language": "python",
   "name": "python3"
  },
  "language_info": {
   "codemirror_mode": {
    "name": "ipython",
    "version": 3
   },
   "file_extension": ".py",
   "mimetype": "text/x-python",
   "name": "python",
   "nbconvert_exporter": "python",
   "pygments_lexer": "ipython3",
   "version": "3.7.6"
  }
 },
 "nbformat": 4,
 "nbformat_minor": 1
}
