{
 "cells": [
  {
   "cell_type": "code",
   "execution_count": 1,
   "metadata": {
    "colab": {},
    "colab_type": "code",
    "executionInfo": {
     "elapsed": 3636,
     "status": "ok",
     "timestamp": 1598884155405,
     "user": {
      "displayName": "Aishwarya Singh",
      "photoUrl": "https://lh3.googleusercontent.com/a-/AOh14GgeJwfn4BdBDCAplWi_kdtB9FRssOpXO7T_aMgg=s64",
      "userId": "01105858832371513140"
     },
     "user_tz": -330
    },
    "id": "xwujk3dRjkup"
   },
   "outputs": [],
   "source": [
    "import spacy"
   ]
  },
  {
   "cell_type": "code",
   "execution_count": 2,
   "metadata": {
    "colab": {},
    "colab_type": "code",
    "executionInfo": {
     "elapsed": 2689,
     "status": "ok",
     "timestamp": 1598884164624,
     "user": {
      "displayName": "Aishwarya Singh",
      "photoUrl": "https://lh3.googleusercontent.com/a-/AOh14GgeJwfn4BdBDCAplWi_kdtB9FRssOpXO7T_aMgg=s64",
      "userId": "01105858832371513140"
     },
     "user_tz": -330
    },
    "id": "-Cm3dVGMjkvP"
   },
   "outputs": [],
   "source": [
    "# Defining the string\n",
    "text=\"With great power comes great responsibility.\""
   ]
  },
  {
   "cell_type": "code",
   "execution_count": 3,
   "metadata": {
    "colab": {},
    "colab_type": "code",
    "executionInfo": {
     "elapsed": 1892,
     "status": "ok",
     "timestamp": 1598884173747,
     "user": {
      "displayName": "Aishwarya Singh",
      "photoUrl": "https://lh3.googleusercontent.com/a-/AOh14GgeJwfn4BdBDCAplWi_kdtB9FRssOpXO7T_aMgg=s64",
      "userId": "01105858832371513140"
     },
     "user_tz": -330
    },
    "id": "huvTbq7fjkvY"
   },
   "outputs": [],
   "source": [
    "# Loading the model\n",
    "nlp=spacy.load('en_core_web_sm')"
   ]
  },
  {
   "cell_type": "code",
   "execution_count": 4,
   "metadata": {
    "colab": {},
    "colab_type": "code",
    "executionInfo": {
     "elapsed": 1315,
     "status": "ok",
     "timestamp": 1598884176578,
     "user": {
      "displayName": "Aishwarya Singh",
      "photoUrl": "https://lh3.googleusercontent.com/a-/AOh14GgeJwfn4BdBDCAplWi_kdtB9FRssOpXO7T_aMgg=s64",
      "userId": "01105858832371513140"
     },
     "user_tz": -330
    },
    "id": "WHFHbjGsjkvg"
   },
   "outputs": [],
   "source": [
    "# Creating Doc object\n",
    "doc=nlp(text)"
   ]
  },
  {
   "cell_type": "code",
   "execution_count": 5,
   "metadata": {
    "colab": {
     "base_uri": "https://localhost:8080/",
     "height": 139
    },
    "colab_type": "code",
    "executionInfo": {
     "elapsed": 1368,
     "status": "ok",
     "timestamp": 1598884206419,
     "user": {
      "displayName": "Aishwarya Singh",
      "photoUrl": "https://lh3.googleusercontent.com/a-/AOh14GgeJwfn4BdBDCAplWi_kdtB9FRssOpXO7T_aMgg=s64",
      "userId": "01105858832371513140"
     },
     "user_tz": -330
    },
    "id": "K1sqN0-Rjkvo",
    "outputId": "45f70107-f9ed-4ac7-9e6c-a360545e00d8"
   },
   "outputs": [
    {
     "name": "stdout",
     "output_type": "stream",
     "text": [
      "With => ADP => IN\n",
      "great => ADJ => JJ\n",
      "power => NOUN => NN\n",
      "comes => VERB => VBZ\n",
      "great => ADJ => JJ\n",
      "responsibility => NOUN => NN\n",
      ". => PUNCT => .\n"
     ]
    }
   ],
   "source": [
    "# Getting POS tags\n",
    "for token in doc:\n",
    "    print(token.text,'=>',token.pos_,'=>',token.tag_)"
   ]
  },
  {
   "cell_type": "code",
   "execution_count": 6,
   "metadata": {
    "colab": {},
    "colab_type": "code",
    "executionInfo": {
     "elapsed": 1272,
     "status": "ok",
     "timestamp": 1598884223305,
     "user": {
      "displayName": "Aishwarya Singh",
      "photoUrl": "https://lh3.googleusercontent.com/a-/AOh14GgeJwfn4BdBDCAplWi_kdtB9FRssOpXO7T_aMgg=s64",
      "userId": "01105858832371513140"
     },
     "user_tz": -330
    },
    "id": "b2guZjnBjkvy"
   },
   "outputs": [],
   "source": [
    "# Defining the string\n",
    "text=\"The teacher reads a book to her students then asks them questions about the story.\""
   ]
  },
  {
   "cell_type": "code",
   "execution_count": 7,
   "metadata": {
    "colab": {},
    "colab_type": "code",
    "executionInfo": {
     "elapsed": 1283,
     "status": "ok",
     "timestamp": 1598884233239,
     "user": {
      "displayName": "Aishwarya Singh",
      "photoUrl": "https://lh3.googleusercontent.com/a-/AOh14GgeJwfn4BdBDCAplWi_kdtB9FRssOpXO7T_aMgg=s64",
      "userId": "01105858832371513140"
     },
     "user_tz": -330
    },
    "id": "97uhzyoujkv6"
   },
   "outputs": [],
   "source": [
    "# Creating Doc object\n",
    "doc=nlp(text)"
   ]
  },
  {
   "cell_type": "code",
   "execution_count": 8,
   "metadata": {
    "colab": {
     "base_uri": "https://localhost:8080/",
     "height": 295
    },
    "colab_type": "code",
    "executionInfo": {
     "elapsed": 1736,
     "status": "ok",
     "timestamp": 1598884234913,
     "user": {
      "displayName": "Aishwarya Singh",
      "photoUrl": "https://lh3.googleusercontent.com/a-/AOh14GgeJwfn4BdBDCAplWi_kdtB9FRssOpXO7T_aMgg=s64",
      "userId": "01105858832371513140"
     },
     "user_tz": -330
    },
    "id": "KjDJHck_jkwD",
    "outputId": "2581b48b-a09c-4b62-c512-8ee60084d506"
   },
   "outputs": [
    {
     "name": "stdout",
     "output_type": "stream",
     "text": [
      "The => DET => DT\n",
      "teacher => NOUN => NN\n",
      "reads => VERB => VBZ\n",
      "a => DET => DT\n",
      "book => NOUN => NN\n",
      "to => ADP => IN\n",
      "her => DET => PRP$\n",
      "students => NOUN => NNS\n",
      "then => ADV => RB\n",
      "asks => VERB => VBZ\n",
      "them => PRON => PRP\n",
      "questions => NOUN => NNS\n",
      "about => ADP => IN\n",
      "the => DET => DT\n",
      "story => NOUN => NN\n",
      ". => PUNCT => .\n"
     ]
    }
   ],
   "source": [
    "# Getting POS tags\n",
    "for token in doc:\n",
    "    print(token.text,'=>',token.pos_,'=>',token.tag_)"
   ]
  },
  {
   "cell_type": "code",
   "execution_count": 9,
   "metadata": {
    "colab": {
     "base_uri": "https://localhost:8080/",
     "height": 34
    },
    "colab_type": "code",
    "executionInfo": {
     "elapsed": 1256,
     "status": "ok",
     "timestamp": 1598884273344,
     "user": {
      "displayName": "Aishwarya Singh",
      "photoUrl": "https://lh3.googleusercontent.com/a-/AOh14GgeJwfn4BdBDCAplWi_kdtB9FRssOpXO7T_aMgg=s64",
      "userId": "01105858832371513140"
     },
     "user_tz": -330
    },
    "id": "Gz1Mr0MEjkwL",
    "outputId": "217cd0f6-630b-4d41-aaab-6748dcf9b88f"
   },
   "outputs": [
    {
     "data": {
      "text/plain": [
       "['reads', 'asks']"
      ]
     },
     "execution_count": 9,
     "metadata": {},
     "output_type": "execute_result"
    }
   ],
   "source": [
    "# Extracting verbs from the sentence\n",
    "[token.text for token in doc if(token.pos_=='VERB')]"
   ]
  },
  {
   "cell_type": "code",
   "execution_count": 10,
   "metadata": {
    "colab": {},
    "colab_type": "code",
    "id": "gM6Foq6-jkwS"
   },
   "outputs": [
    {
     "data": {
      "text/plain": [
       "['teacher', 'book', 'students', 'questions', 'story']"
      ]
     },
     "execution_count": 10,
     "metadata": {},
     "output_type": "execute_result"
    }
   ],
   "source": [
    "# Extracting nouns from the sentence\n",
    "[token.text for token in doc if(token.pos_=='NOUN')]"
   ]
  },
  {
   "cell_type": "markdown",
   "metadata": {},
   "source": [
    "## Exercise\n",
    "\n",
    "Read moon.txt file\n",
    "- Task1 : Annotate the words with parts of speech tag\n",
    "- Task2 : Count the number of nouns and verbs"
   ]
  },
  {
   "cell_type": "code",
   "execution_count": 11,
   "metadata": {},
   "outputs": [],
   "source": [
    "# Read moon.txt\n",
    "file = open('moon.txt',mode='r', encoding='utf-8')\n",
    "txt_moon = file.read()\n",
    "file.close()"
   ]
  },
  {
   "cell_type": "code",
   "execution_count": 12,
   "metadata": {},
   "outputs": [
    {
     "data": {
      "text/plain": [
       "'The moon is the satellite of the earth. It moves round the earth. It shines at night by light reflected from the Sun. It looks beautiful. The bright Moonlight is very soothing. The earthly objects shine like silver in the moonlight. We are fascinated by the enchanting beauty of the Moon. The moon is not as beautiful as it looks. It seems to be lovely when it shines in the sky at night. As a matter of fact it is devoid of plants and animals. The moon is not a suitable place for plants and animals. Therefore, no form of life can be found on the moon. Unlike the earth, the moon has got no atmosphere. Therefore, the lunar days are very hot and the lunar nights are intensely cold. The moon looks beautiful from the earth but in fact it has up forbidding appearance. It is full of rocks and craters. When we look at the moon at night we see some dark spots on it. These dark spots are dangerous rocks and craters. The gravitational pull of the moon is less than that of the earth, so it is difficult to walk on the surface of the Moon. The moon has fascinated man since the beginning of his life on the earth. He has looked at it with wonder. Many poets have composed beautiful poems on the moon. Scientists tried to reveal the mystery of the moon. They wanted to send human to the moon. Several attempts were made to place man on the moon. At last two Americans-Neil Armstrong and Edwin Aldrin-reached the moon on July 21, 1969. They walked on the surface of the moon and collected the lunar rocks. They returned to the earth safely. The American scientists have sent men to the moon several times. Now the moon has been conquered by man. It is no longer a mysterious object. The journey of the moon may be thrilling but it cannot make our life on the earth happy. It is better to have a happy life on the earth then to go to the moon.\\n'"
      ]
     },
     "execution_count": 12,
     "metadata": {},
     "output_type": "execute_result"
    }
   ],
   "source": [
    "txt_moon"
   ]
  },
  {
   "cell_type": "code",
   "execution_count": 13,
   "metadata": {},
   "outputs": [],
   "source": [
    "doc = nlp(txt_moon)"
   ]
  },
  {
   "cell_type": "markdown",
   "metadata": {},
   "source": [
    "#### Task 1. Annotate words with POS Tag"
   ]
  },
  {
   "cell_type": "code",
   "execution_count": 14,
   "metadata": {},
   "outputs": [
    {
     "name": "stdout",
     "output_type": "stream",
     "text": [
      "The -> DT\n",
      "moon -> NN\n",
      "is -> VBZ\n",
      "the -> DT\n",
      "satellite -> NN\n",
      "of -> IN\n",
      "the -> DT\n",
      "earth -> NN\n",
      ". -> .\n",
      "It -> PRP\n",
      "moves -> VBZ\n",
      "round -> IN\n",
      "the -> DT\n",
      "earth -> NN\n",
      ". -> .\n",
      "It -> PRP\n",
      "shines -> VBZ\n",
      "at -> IN\n",
      "night -> NN\n",
      "by -> IN\n",
      "light -> NN\n",
      "reflected -> VBN\n",
      "from -> IN\n",
      "the -> DT\n",
      "Sun -> NNP\n",
      ". -> .\n",
      "It -> PRP\n",
      "looks -> VBZ\n",
      "beautiful -> JJ\n",
      ". -> .\n",
      "The -> DT\n",
      "bright -> JJ\n",
      "Moonlight -> NNP\n",
      "is -> VBZ\n",
      "very -> RB\n",
      "soothing -> JJ\n",
      ". -> .\n",
      "The -> DT\n",
      "earthly -> JJ\n",
      "objects -> NNS\n",
      "shine -> VBP\n",
      "like -> IN\n",
      "silver -> NN\n",
      "in -> IN\n",
      "the -> DT\n",
      "moonlight -> NN\n",
      ". -> .\n",
      "We -> PRP\n",
      "are -> VBP\n",
      "fascinated -> VBN\n",
      "by -> IN\n",
      "the -> DT\n",
      "enchanting -> JJ\n",
      "beauty -> NN\n",
      "of -> IN\n",
      "the -> DT\n",
      "Moon -> NNP\n",
      ". -> .\n",
      "The -> DT\n",
      "moon -> NN\n",
      "is -> VBZ\n",
      "not -> RB\n",
      "as -> RB\n",
      "beautiful -> JJ\n",
      "as -> IN\n",
      "it -> PRP\n",
      "looks -> VBZ\n",
      ". -> .\n",
      "It -> PRP\n",
      "seems -> VBZ\n",
      "to -> TO\n",
      "be -> VB\n",
      "lovely -> JJ\n",
      "when -> WRB\n",
      "it -> PRP\n",
      "shines -> VBZ\n",
      "in -> IN\n",
      "the -> DT\n",
      "sky -> NN\n",
      "at -> IN\n",
      "night -> NN\n",
      ". -> .\n",
      "As -> IN\n",
      "a -> DT\n",
      "matter -> NN\n",
      "of -> IN\n",
      "fact -> NN\n",
      "it -> PRP\n",
      "is -> VBZ\n",
      "devoid -> JJ\n",
      "of -> IN\n",
      "plants -> NNS\n",
      "and -> CC\n",
      "animals -> NNS\n",
      ". -> .\n",
      "The -> DT\n",
      "moon -> NN\n",
      "is -> VBZ\n",
      "not -> RB\n",
      "a -> DT\n",
      "suitable -> JJ\n",
      "place -> NN\n",
      "for -> IN\n",
      "plants -> NNS\n",
      "and -> CC\n",
      "animals -> NNS\n",
      ". -> .\n",
      "Therefore -> RB\n",
      ", -> ,\n",
      "no -> DT\n",
      "form -> NN\n",
      "of -> IN\n",
      "life -> NN\n",
      "can -> MD\n",
      "be -> VB\n",
      "found -> VBN\n",
      "on -> IN\n",
      "the -> DT\n",
      "moon -> NN\n",
      ". -> .\n",
      "Unlike -> IN\n",
      "the -> DT\n",
      "earth -> NN\n",
      ", -> ,\n",
      "the -> DT\n",
      "moon -> NN\n",
      "has -> VBZ\n",
      "got -> VBN\n",
      "no -> DT\n",
      "atmosphere -> NN\n",
      ". -> .\n",
      "Therefore -> RB\n",
      ", -> ,\n",
      "the -> DT\n",
      "lunar -> JJ\n",
      "days -> NNS\n",
      "are -> VBP\n",
      "very -> RB\n",
      "hot -> JJ\n",
      "and -> CC\n",
      "the -> DT\n",
      "lunar -> JJ\n",
      "nights -> NNS\n",
      "are -> VBP\n",
      "intensely -> RB\n",
      "cold -> JJ\n",
      ". -> .\n",
      "The -> DT\n",
      "moon -> NN\n",
      "looks -> VBZ\n",
      "beautiful -> JJ\n",
      "from -> IN\n",
      "the -> DT\n",
      "earth -> NN\n",
      "but -> CC\n",
      "in -> IN\n",
      "fact -> NN\n",
      "it -> PRP\n",
      "has -> VBZ\n",
      "up -> RP\n",
      "forbidding -> VBG\n",
      "appearance -> NN\n",
      ". -> .\n",
      "It -> PRP\n",
      "is -> VBZ\n",
      "full -> JJ\n",
      "of -> IN\n",
      "rocks -> NNS\n",
      "and -> CC\n",
      "craters -> NNS\n",
      ". -> .\n",
      "When -> WRB\n",
      "we -> PRP\n",
      "look -> VBP\n",
      "at -> IN\n",
      "the -> DT\n",
      "moon -> NN\n",
      "at -> IN\n",
      "night -> NN\n",
      "we -> PRP\n",
      "see -> VBP\n",
      "some -> DT\n",
      "dark -> JJ\n",
      "spots -> NNS\n",
      "on -> IN\n",
      "it -> PRP\n",
      ". -> .\n",
      "These -> DT\n",
      "dark -> JJ\n",
      "spots -> NNS\n",
      "are -> VBP\n",
      "dangerous -> JJ\n",
      "rocks -> NNS\n",
      "and -> CC\n",
      "craters -> NNS\n",
      ". -> .\n",
      "The -> DT\n",
      "gravitational -> JJ\n",
      "pull -> NN\n",
      "of -> IN\n",
      "the -> DT\n",
      "moon -> NN\n",
      "is -> VBZ\n",
      "less -> JJR\n",
      "than -> IN\n",
      "that -> DT\n",
      "of -> IN\n",
      "the -> DT\n",
      "earth -> NN\n",
      ", -> ,\n",
      "so -> CC\n",
      "it -> PRP\n",
      "is -> VBZ\n",
      "difficult -> JJ\n",
      "to -> TO\n",
      "walk -> VB\n",
      "on -> IN\n",
      "the -> DT\n",
      "surface -> NN\n",
      "of -> IN\n",
      "the -> DT\n",
      "Moon -> NNP\n",
      ". -> .\n",
      "The -> DT\n",
      "moon -> NN\n",
      "has -> VBZ\n",
      "fascinated -> VBN\n",
      "man -> NN\n",
      "since -> IN\n",
      "the -> DT\n",
      "beginning -> NN\n",
      "of -> IN\n",
      "his -> PRP$\n",
      "life -> NN\n",
      "on -> IN\n",
      "the -> DT\n",
      "earth -> NN\n",
      ". -> .\n",
      "He -> PRP\n",
      "has -> VBZ\n",
      "looked -> VBN\n",
      "at -> IN\n",
      "it -> PRP\n",
      "with -> IN\n",
      "wonder -> NN\n",
      ". -> .\n",
      "Many -> JJ\n",
      "poets -> NNS\n",
      "have -> VBP\n",
      "composed -> VBN\n",
      "beautiful -> JJ\n",
      "poems -> NNS\n",
      "on -> IN\n",
      "the -> DT\n",
      "moon -> NN\n",
      ". -> .\n",
      "Scientists -> NNS\n",
      "tried -> VBD\n",
      "to -> TO\n",
      "reveal -> VB\n",
      "the -> DT\n",
      "mystery -> NN\n",
      "of -> IN\n",
      "the -> DT\n",
      "moon -> NN\n",
      ". -> .\n",
      "They -> PRP\n",
      "wanted -> VBD\n",
      "to -> TO\n",
      "send -> VB\n",
      "human -> NN\n",
      "to -> IN\n",
      "the -> DT\n",
      "moon -> NN\n",
      ". -> .\n",
      "Several -> JJ\n",
      "attempts -> NNS\n",
      "were -> VBD\n",
      "made -> VBN\n",
      "to -> TO\n",
      "place -> VB\n",
      "man -> NN\n",
      "on -> IN\n",
      "the -> DT\n",
      "moon -> NN\n",
      ". -> .\n",
      "At -> IN\n",
      "last -> JJ\n",
      "two -> CD\n",
      "Americans -> NNPS\n",
      "- -> :\n",
      "Neil -> NNP\n",
      "Armstrong -> NNP\n",
      "and -> CC\n",
      "Edwin -> NNP\n",
      "Aldrin -> NNP\n",
      "- -> ,\n",
      "reached -> VBD\n",
      "the -> DT\n",
      "moon -> NN\n",
      "on -> IN\n",
      "July -> NNP\n",
      "21 -> CD\n",
      ", -> ,\n",
      "1969 -> CD\n",
      ". -> .\n",
      "They -> PRP\n",
      "walked -> VBD\n",
      "on -> IN\n",
      "the -> DT\n",
      "surface -> NN\n",
      "of -> IN\n",
      "the -> DT\n",
      "moon -> NN\n",
      "and -> CC\n",
      "collected -> VBD\n",
      "the -> DT\n",
      "lunar -> JJ\n",
      "rocks -> NNS\n",
      ". -> .\n",
      "They -> PRP\n",
      "returned -> VBD\n",
      "to -> IN\n",
      "the -> DT\n",
      "earth -> NN\n",
      "safely -> RB\n",
      ". -> .\n",
      "The -> DT\n",
      "American -> JJ\n",
      "scientists -> NNS\n",
      "have -> VBP\n",
      "sent -> VBN\n",
      "men -> NNS\n",
      "to -> IN\n",
      "the -> DT\n",
      "moon -> NN\n",
      "several -> JJ\n",
      "times -> NNS\n",
      ". -> .\n",
      "Now -> RB\n",
      "the -> DT\n",
      "moon -> NN\n",
      "has -> VBZ\n",
      "been -> VBN\n",
      "conquered -> VBN\n",
      "by -> IN\n",
      "man -> NN\n",
      ". -> .\n",
      "It -> PRP\n",
      "is -> VBZ\n",
      "no -> RB\n",
      "longer -> RBR\n",
      "a -> DT\n",
      "mysterious -> JJ\n",
      "object -> NN\n",
      ". -> .\n",
      "The -> DT\n",
      "journey -> NN\n",
      "of -> IN\n",
      "the -> DT\n",
      "moon -> NN\n",
      "may -> MD\n",
      "be -> VB\n",
      "thrilling -> VBG\n",
      "but -> CC\n",
      "it -> PRP\n",
      "can -> MD\n",
      "not -> RB\n",
      "make -> VB\n",
      "our -> PRP$\n",
      "life -> NN\n",
      "on -> IN\n",
      "the -> DT\n",
      "earth -> NN\n",
      "happy -> JJ\n",
      ". -> .\n",
      "It -> PRP\n",
      "is -> VBZ\n",
      "better -> JJR\n",
      "to -> TO\n",
      "have -> VB\n",
      "a -> DT\n",
      "happy -> JJ\n",
      "life -> NN\n",
      "on -> IN\n",
      "the -> DT\n",
      "earth -> NN\n",
      "then -> RB\n",
      "to -> TO\n",
      "go -> VB\n",
      "to -> IN\n",
      "the -> DT\n",
      "moon -> NN\n",
      ". -> .\n",
      "\n",
      " -> _SP\n"
     ]
    }
   ],
   "source": [
    "for token in doc:\n",
    "    print(token.text , '->' , token.tag_)"
   ]
  },
  {
   "cell_type": "markdown",
   "metadata": {},
   "source": [
    "#### Task2: Count the number of nouns and verbs"
   ]
  },
  {
   "cell_type": "code",
   "execution_count": 15,
   "metadata": {},
   "outputs": [],
   "source": [
    "lst_noun = [ token for token in doc if token.pos_ == 'NOUN']\n",
    "lst_verb = [ token for token in doc if token.pos_ == 'VERB']"
   ]
  },
  {
   "cell_type": "code",
   "execution_count": 16,
   "metadata": {},
   "outputs": [
    {
     "name": "stdout",
     "output_type": "stream",
     "text": [
      "There are 81 NOUNS in moon.txt\n"
     ]
    }
   ],
   "source": [
    "print(f'There are {len(lst_noun)} NOUNS in moon.txt')"
   ]
  },
  {
   "cell_type": "code",
   "execution_count": 17,
   "metadata": {},
   "outputs": [
    {
     "name": "stdout",
     "output_type": "stream",
     "text": [
      "There are 37 VERBS in moon.txt\n"
     ]
    }
   ],
   "source": [
    "print(f'There are {len(lst_verb)} VERBS in moon.txt')"
   ]
  }
 ],
 "metadata": {
  "colab": {
   "collapsed_sections": [],
   "name": "6.3 Implementing Part-of-Speech (POS) Tagging.ipynb",
   "provenance": []
  },
  "kernelspec": {
   "display_name": "Python 3",
   "language": "python",
   "name": "python3"
  },
  "language_info": {
   "codemirror_mode": {
    "name": "ipython",
    "version": 3
   },
   "file_extension": ".py",
   "mimetype": "text/x-python",
   "name": "python",
   "nbconvert_exporter": "python",
   "pygments_lexer": "ipython3",
   "version": "3.7.6"
  }
 },
 "nbformat": 4,
 "nbformat_minor": 1
}
