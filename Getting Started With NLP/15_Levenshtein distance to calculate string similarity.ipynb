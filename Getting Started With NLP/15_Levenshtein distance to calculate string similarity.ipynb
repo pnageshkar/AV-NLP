{
 "cells": [
  {
   "cell_type": "code",
   "execution_count": 1,
   "metadata": {
    "colab": {},
    "colab_type": "code",
    "executionInfo": {
     "elapsed": 1670,
     "status": "ok",
     "timestamp": 1598972758034,
     "user": {
      "displayName": "Aishwarya Singh",
      "photoUrl": "https://lh3.googleusercontent.com/a-/AOh14GgeJwfn4BdBDCAplWi_kdtB9FRssOpXO7T_aMgg=s64",
      "userId": "01105858832371513140"
     },
     "user_tz": -330
    },
    "id": "bOb9Q4x75IvZ"
   },
   "outputs": [],
   "source": [
    "# importing library\n",
    "import numpy as np"
   ]
  },
  {
   "cell_type": "code",
   "execution_count": 2,
   "metadata": {
    "colab": {},
    "colab_type": "code",
    "executionInfo": {
     "elapsed": 1567,
     "status": "ok",
     "timestamp": 1598972766069,
     "user": {
      "displayName": "Aishwarya Singh",
      "photoUrl": "https://lh3.googleusercontent.com/a-/AOh14GgeJwfn4BdBDCAplWi_kdtB9FRssOpXO7T_aMgg=s64",
      "userId": "01105858832371513140"
     },
     "user_tz": -330
    },
    "id": "E60WMhAMoLXz"
   },
   "outputs": [],
   "source": [
    "# defining two strings\n",
    "seq1 = 'text'\n",
    "seq2 = 'test'"
   ]
  },
  {
   "cell_type": "markdown",
   "metadata": {
    "colab_type": "text",
    "id": "BEaRTW7Vvmwv"
   },
   "source": [
    "![](https://drive.google.com/uc?export=view&id=1ev-00rhE1Waiy9VbdR2KpO_ML4JnosWj)"
   ]
  },
  {
   "cell_type": "code",
   "execution_count": 3,
   "metadata": {
    "colab": {
     "base_uri": "https://localhost:8080/",
     "height": 104
    },
    "colab_type": "code",
    "executionInfo": {
     "elapsed": 1600,
     "status": "ok",
     "timestamp": 1598972863737,
     "user": {
      "displayName": "Aishwarya Singh",
      "photoUrl": "https://lh3.googleusercontent.com/a-/AOh14GgeJwfn4BdBDCAplWi_kdtB9FRssOpXO7T_aMgg=s64",
      "userId": "01105858832371513140"
     },
     "user_tz": -330
    },
    "id": "716_OkwioLdt",
    "outputId": "293df4cf-d8ce-4fc7-b08e-4522f35fe674"
   },
   "outputs": [
    {
     "data": {
      "text/plain": [
       "array([[0., 0., 0., 0., 0.],\n",
       "       [0., 0., 0., 0., 0.],\n",
       "       [0., 0., 0., 0., 0.],\n",
       "       [0., 0., 0., 0., 0.],\n",
       "       [0., 0., 0., 0., 0.]])"
      ]
     },
     "execution_count": 3,
     "metadata": {},
     "output_type": "execute_result"
    }
   ],
   "source": [
    "# size of matrix\n",
    "size_x = len(seq1) + 1\n",
    "size_y = len(seq2) + 1\n",
    "# creating a matrix with all zeros\n",
    "matrix = np.zeros((size_x, size_y))\n",
    "\n",
    "# printing the matrix\n",
    "matrix"
   ]
  },
  {
   "cell_type": "code",
   "execution_count": 4,
   "metadata": {
    "colab": {
     "base_uri": "https://localhost:8080/",
     "height": 104
    },
    "colab_type": "code",
    "executionInfo": {
     "elapsed": 1927,
     "status": "ok",
     "timestamp": 1598972892180,
     "user": {
      "displayName": "Aishwarya Singh",
      "photoUrl": "https://lh3.googleusercontent.com/a-/AOh14GgeJwfn4BdBDCAplWi_kdtB9FRssOpXO7T_aMgg=s64",
      "userId": "01105858832371513140"
     },
     "user_tz": -330
    },
    "id": "lLypPFt-ucDq",
    "outputId": "053df9d0-8b70-4326-e063-109ffe840366"
   },
   "outputs": [
    {
     "data": {
      "text/plain": [
       "array([[0., 1., 2., 3., 4.],\n",
       "       [1., 0., 0., 0., 0.],\n",
       "       [2., 0., 0., 0., 0.],\n",
       "       [3., 0., 0., 0., 0.],\n",
       "       [4., 0., 0., 0., 0.]])"
      ]
     },
     "execution_count": 4,
     "metadata": {},
     "output_type": "execute_result"
    }
   ],
   "source": [
    "# filling the first column of the matrix with the index of characters from first string\n",
    "for x in range(size_x):\n",
    "    matrix [x, 0] = x\n",
    "# filling the first row of the matrix with the index of characters from second string\n",
    "for y in range(size_y):\n",
    "    matrix [0, y] = y\n",
    "\n",
    "# printing the matrix\n",
    "matrix"
   ]
  },
  {
   "cell_type": "code",
   "execution_count": 5,
   "metadata": {
    "colab": {
     "base_uri": "https://localhost:8080/",
     "height": 104
    },
    "colab_type": "code",
    "executionInfo": {
     "elapsed": 1741,
     "status": "ok",
     "timestamp": 1598972980044,
     "user": {
      "displayName": "Aishwarya Singh",
      "photoUrl": "https://lh3.googleusercontent.com/a-/AOh14GgeJwfn4BdBDCAplWi_kdtB9FRssOpXO7T_aMgg=s64",
      "userId": "01105858832371513140"
     },
     "user_tz": -330
    },
    "id": "1IILe4PLvV9R",
    "outputId": "97900c84-d00b-4450-e8e6-f38e2a5bff86"
   },
   "outputs": [
    {
     "data": {
      "text/plain": [
       "array([[0., 1., 2., 3., 4.],\n",
       "       [1., 0., 1., 2., 3.],\n",
       "       [2., 1., 0., 1., 2.],\n",
       "       [3., 2., 1., 1., 2.],\n",
       "       [4., 3., 2., 2., 1.]])"
      ]
     },
     "execution_count": 5,
     "metadata": {},
     "output_type": "execute_result"
    }
   ],
   "source": [
    "# for each column\n",
    "for x in range(1, size_x):\n",
    "    # for each row\n",
    "    for y in range(1, size_y):\n",
    "        # check if the characters are same\n",
    "        if seq1[x-1] == seq2[y-1]:\n",
    "            # fill the element with the minimum of (diagonal value, first corresponding value + 1, second corresponding value + 1) \n",
    "            matrix [x,y] = min(\n",
    "                matrix[x-1, y-1],\n",
    "                matrix[x-1, y] + 1,                    \n",
    "                matrix[x, y-1] + 1\n",
    "            )\n",
    "        # if characters are not same\n",
    "        else:\n",
    "            # fill the element with the minimum of corresponding values + 1\n",
    "            matrix [x,y] = min(\n",
    "                matrix[x-1,y] + 1,\n",
    "                matrix[x-1,y-1] + 1,\n",
    "                matrix[x,y-1] + 1\n",
    "            )\n",
    "\n",
    "# final matrix\n",
    "matrix"
   ]
  },
  {
   "cell_type": "code",
   "execution_count": 6,
   "metadata": {
    "colab": {
     "base_uri": "https://localhost:8080/",
     "height": 34
    },
    "colab_type": "code",
    "executionInfo": {
     "elapsed": 1833,
     "status": "ok",
     "timestamp": 1598973037385,
     "user": {
      "displayName": "Aishwarya Singh",
      "photoUrl": "https://lh3.googleusercontent.com/a-/AOh14GgeJwfn4BdBDCAplWi_kdtB9FRssOpXO7T_aMgg=s64",
      "userId": "01105858832371513140"
     },
     "user_tz": -330
    },
    "id": "yLMKrZbNveUB",
    "outputId": "3b095cd9-6d23-4c2a-fd4c-113b53c3807f"
   },
   "outputs": [
    {
     "data": {
      "text/plain": [
       "1.0"
      ]
     },
     "execution_count": 6,
     "metadata": {},
     "output_type": "execute_result"
    }
   ],
   "source": [
    "# levenshtein distance\n",
    "matrix[size_x - 1, size_y - 1]"
   ]
  },
  {
   "cell_type": "code",
   "execution_count": 7,
   "metadata": {
    "colab": {},
    "colab_type": "code",
    "executionInfo": {
     "elapsed": 1803,
     "status": "ok",
     "timestamp": 1598973117056,
     "user": {
      "displayName": "Aishwarya Singh",
      "photoUrl": "https://lh3.googleusercontent.com/a-/AOh14GgeJwfn4BdBDCAplWi_kdtB9FRssOpXO7T_aMgg=s64",
      "userId": "01105858832371513140"
     },
     "user_tz": -330
    },
    "id": "3xwSbEIots4Y"
   },
   "outputs": [],
   "source": [
    "# defining the function to calculate levenshtein distance between two strings\n",
    "def levenshtein_distance(seq1, seq2):\n",
    "\n",
    "    # size of matrix\n",
    "    size_x = len(seq1) + 1\n",
    "    size_y = len(seq2) + 1\n",
    "    # creating a matrix with all zeros\n",
    "    matrix = np.zeros((size_x, size_y))\n",
    "\n",
    "    # filling the first column of the matrix with the index of characters from first string\n",
    "    for x in range(size_x):\n",
    "        matrix [x, 0] = x\n",
    "    # filling the first row of the matrix with the index of characters from second string\n",
    "    for y in range(size_y):\n",
    "        matrix [0, y] = y\n",
    "\n",
    "    # for each column\n",
    "    for x in range(1, size_x):\n",
    "        # for each row\n",
    "        for y in range(1, size_y):\n",
    "            # check if the characters are same\n",
    "            if seq1[x-1] == seq2[y-1]:\n",
    "                # fill the element with the minimum of (diagonal value, first corresponding value + 1, second corresponding value + 1) \n",
    "                matrix [x,y] = min(\n",
    "                    matrix[x-1, y-1],\n",
    "                    matrix[x-1, y] + 1,                    \n",
    "                    matrix[x, y-1] + 1\n",
    "                )\n",
    "            # if characters are not same\n",
    "            else:\n",
    "                # fill the element with the minimum of corresponding values + 1\n",
    "                matrix [x,y] = min(\n",
    "                    matrix[x-1,y] + 1,\n",
    "                    matrix[x-1,y-1] + 1,\n",
    "                    matrix[x,y-1] + 1\n",
    "                )\n",
    "\n",
    "    # printing the final matrix            \n",
    "    print (matrix)\n",
    "    \n",
    "    # returning the levenshtein distance\n",
    "    return (matrix[size_x - 1, size_y - 1])"
   ]
  },
  {
   "cell_type": "code",
   "execution_count": 8,
   "metadata": {
    "colab": {},
    "colab_type": "code",
    "executionInfo": {
     "elapsed": 1630,
     "status": "ok",
     "timestamp": 1598973129326,
     "user": {
      "displayName": "Aishwarya Singh",
      "photoUrl": "https://lh3.googleusercontent.com/a-/AOh14GgeJwfn4BdBDCAplWi_kdtB9FRssOpXO7T_aMgg=s64",
      "userId": "01105858832371513140"
     },
     "user_tz": -330
    },
    "id": "pHmF5JBMkjlm"
   },
   "outputs": [],
   "source": [
    "# defining two sequences\n",
    "seq1 = 'scientist'\n",
    "seq2 = 'science'"
   ]
  },
  {
   "cell_type": "code",
   "execution_count": 9,
   "metadata": {
    "colab": {
     "base_uri": "https://localhost:8080/",
     "height": 208
    },
    "colab_type": "code",
    "executionInfo": {
     "elapsed": 1772,
     "status": "ok",
     "timestamp": 1598973133383,
     "user": {
      "displayName": "Aishwarya Singh",
      "photoUrl": "https://lh3.googleusercontent.com/a-/AOh14GgeJwfn4BdBDCAplWi_kdtB9FRssOpXO7T_aMgg=s64",
      "userId": "01105858832371513140"
     },
     "user_tz": -330
    },
    "id": "hq7_c-Mz3dQt",
    "outputId": "3da5edf7-4c1c-494e-bdcd-2956c0d7ea07"
   },
   "outputs": [
    {
     "name": "stdout",
     "output_type": "stream",
     "text": [
      "[[0. 1. 2. 3. 4. 5. 6. 7.]\n",
      " [1. 0. 1. 2. 3. 4. 5. 6.]\n",
      " [2. 1. 0. 1. 2. 3. 4. 5.]\n",
      " [3. 2. 1. 0. 1. 2. 3. 4.]\n",
      " [4. 3. 2. 1. 0. 1. 2. 3.]\n",
      " [5. 4. 3. 2. 1. 0. 1. 2.]\n",
      " [6. 5. 4. 3. 2. 1. 1. 2.]\n",
      " [7. 6. 5. 4. 3. 2. 2. 2.]\n",
      " [8. 7. 6. 5. 4. 3. 3. 3.]\n",
      " [9. 8. 7. 6. 5. 4. 4. 4.]]\n"
     ]
    },
    {
     "data": {
      "text/plain": [
       "4.0"
      ]
     },
     "execution_count": 9,
     "metadata": {},
     "output_type": "execute_result"
    }
   ],
   "source": [
    "levenshtein_distance(seq1, seq2)"
   ]
  },
  {
   "cell_type": "code",
   "execution_count": null,
   "metadata": {
    "colab": {},
    "colab_type": "code",
    "id": "FJLxIjMc3i0B"
   },
   "outputs": [],
   "source": []
  }
 ],
 "metadata": {
  "colab": {
   "collapsed_sections": [],
   "name": "Levenshtein distance to calculate string similarity.ipynb",
   "provenance": []
  },
  "kernelspec": {
   "display_name": "Python 3",
   "language": "python",
   "name": "python3"
  },
  "language_info": {
   "codemirror_mode": {
    "name": "ipython",
    "version": 3
   },
   "file_extension": ".py",
   "mimetype": "text/x-python",
   "name": "python",
   "nbconvert_exporter": "python",
   "pygments_lexer": "ipython3",
   "version": "3.7.6"
  }
 },
 "nbformat": 4,
 "nbformat_minor": 1
}
